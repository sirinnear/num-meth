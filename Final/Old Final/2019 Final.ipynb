{
 "cells": [
  {
   "cell_type": "markdown",
   "metadata": {},
   "source": [
    "## Rule\n",
    "- Open everything. No communication regarding exam.\n",
    "- You will be graded out of 500."
   ]
  },
  {
   "cell_type": "markdown",
   "metadata": {},
   "source": [
    "## Problem 1: (140)\n",
    "Some Theory. Make the correct statement **bold**"
   ]
  },
  {
   "cell_type": "markdown",
   "metadata": {},
   "source": [
    "1. When we approximate a function using taylor series, the more term we add, the (more/less) accurate the approximation is.\n",
    "\n",
    "2. When we found that gradient descent does not converge. We should (increase/decrease) the learning rate.\n",
    "\n",
    "3. Gradient descent (guarantee/ does not guarantee) global minimum.\n",
    "\n",
    "4. Newton's Methods (guarantee/does not guarantee) convergence.\n",
    "\n",
    "5. Monte Carlo integration convergence (does/does not) depend on the number of dimension.\n",
    "\n",
    "6. Hill Climbing (guarantee/ does not guarantee) global minimum.\n",
    "\n",
    "7. In simulated annealing, the probability of accepting worse answer should (increase/decrease) over time. "
   ]
  },
  {
   "cell_type": "markdown",
   "metadata": {},
   "source": [
    "## Problem 2: Solving Equations (100)\n",
    "    \n",
    "Find solutions to the following system of equation using Newton's method.\n",
    "$$\n",
    "x^2 + \\sin(y) = 1 \\\\\n",
    "y^2 + \\sin(x) = 2\n",
    "$$\n",
    "\n",
    "Find at least 3 solutions.\n"
   ]
  },
  {
   "cell_type": "code",
   "execution_count": null,
   "metadata": {},
   "outputs": [],
   "source": []
  },
  {
   "cell_type": "markdown",
   "metadata": {},
   "source": [
    "## Problem 3: Integral (100)\n",
    "    \n",
    "$$\n",
    "\\int_C \\sin(x^2)\\cos(y^2) \\;\\text{d}A\n",
    "$$\n",
    "\n",
    "where C is the region defined by the intersection of $x > y$ and circle of radius 1."
   ]
  },
  {
   "cell_type": "code",
   "execution_count": null,
   "metadata": {},
   "outputs": [],
   "source": []
  },
  {
   "cell_type": "markdown",
   "metadata": {},
   "source": [
    "## Problem 4: Simulation (100)\n",
    "    \n",
    "Poon and Ply always play puyo puyo against each other.\n",
    "Suppose that Ply's probability of winning a game is 0.55.\n",
    "\n",
    "The two want to settle it once and for all by playing 11 games serie.\n",
    "To win the serie, one has to either\n",
    "\n",
    "1) During the serie one win 2 more match than another. Ex(Ply:3 vs Poon:1 -> serie end and Ply wins)\n",
    "\n",
    "2) If condition 1 never met, and all 11 games has been played. The winner is decided by the person with more wins."
   ]
  },
  {
   "cell_type": "markdown",
   "metadata": {},
   "source": [
    "1) What's the probability that Ply Wins."
   ]
  },
  {
   "cell_type": "code",
   "execution_count": null,
   "metadata": {},
   "outputs": [],
   "source": []
  },
  {
   "cell_type": "markdown",
   "metadata": {},
   "source": [
    "2) What's the expected number of game play?"
   ]
  },
  {
   "cell_type": "code",
   "execution_count": null,
   "metadata": {},
   "outputs": [],
   "source": []
  },
  {
   "cell_type": "markdown",
   "metadata": {},
   "source": [
    "### Problem 5: Hill Climbing/ Simulated Annealing (100)"
   ]
  },
  {
   "cell_type": "markdown",
   "metadata": {},
   "source": [
    "A company tie can be estimated by the amount of trade done between two companies.\n",
    "\n",
    "An investor wants to invest in exactly 10 companies with the strongest tie from a list of 50 companies. \n",
    "\n",
    "Find the 10 companies with the strongest ties using hill climbing.\n",
    "\n",
    "The amount of trade is from company $i$ to company $j$ is given by the *trade* matrix below.\n"
   ]
  },
  {
   "cell_type": "code",
   "execution_count": 4,
   "metadata": {},
   "outputs": [],
   "source": [
    "import numpy as np\n",
    "np.random.seed(333)\n",
    "trade = np.abs(np.random.randn(50,50))\n",
    "trade = trade + trade.T\n",
    "np.fill_diagonal(trade, 0)"
   ]
  },
  {
   "cell_type": "code",
   "execution_count": null,
   "metadata": {},
   "outputs": [],
   "source": []
  }
 ],
 "metadata": {
  "kernelspec": {
   "display_name": "Python 3",
   "language": "python",
   "name": "python3"
  },
  "language_info": {
   "codemirror_mode": {
    "name": "ipython",
    "version": 3
   },
   "file_extension": ".py",
   "mimetype": "text/x-python",
   "name": "python",
   "nbconvert_exporter": "python",
   "pygments_lexer": "ipython3",
   "version": "3.7.0"
  },
  "toc": {
   "colors": {
    "hover_highlight": "#DAA520",
    "running_highlight": "#FF0000",
    "selected_highlight": "#FFD700"
   },
   "moveMenuLeft": true,
   "nav_menu": {
    "height": "120px",
    "width": "252px"
   },
   "navigate_menu": true,
   "number_sections": false,
   "sideBar": true,
   "threshold": 4,
   "toc_cell": false,
   "toc_section_display": "block",
   "toc_window_display": false
  }
 },
 "nbformat": 4,
 "nbformat_minor": 2
}
