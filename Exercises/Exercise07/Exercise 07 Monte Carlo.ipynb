{
 "cells": [
  {
   "cell_type": "code",
   "execution_count": 1,
   "metadata": {},
   "outputs": [],
   "source": [
    "%matplotlib inline\n",
    "from matplotlib import pyplot as plt\n",
    "import numpy as np\n",
    "import math"
   ]
  },
  {
   "cell_type": "markdown",
   "metadata": {},
   "source": [
    "### Monte Carlo Integration"
   ]
  },
  {
   "cell_type": "markdown",
   "metadata": {},
   "source": [
    "#### 1) Let integrate\n",
    "$$ \\iiint \\limits_{C} x^2(y-1)^2(z-2)^2\\exp(xyz) \\; dx \\; dy \\; dz$$\n",
    "Over a cube $x \\in [-1,1], y\\in [-1,1], z\\in [-1,1]$"
   ]
  },
  {
   "cell_type": "code",
   "execution_count": null,
   "metadata": {},
   "outputs": [],
   "source": []
  },
  {
   "cell_type": "markdown",
   "metadata": {},
   "source": [
    "#### 2) Evaluate\n",
    "$$ \\iiint \\limits_{C} x^2(y-1)^2(z-2)^2\\exp(xyz) \\; dx \\; dy \\; dz$$\n",
    "Over a sphere of radius 1 centered at the origin."
   ]
  },
  {
   "cell_type": "code",
   "execution_count": null,
   "metadata": {},
   "outputs": [],
   "source": []
  },
  {
   "cell_type": "markdown",
   "metadata": {},
   "source": [
    "3) Do we guarantee to get the same answer when we repeat the experiment?"
   ]
  },
  {
   "cell_type": "code",
   "execution_count": null,
   "metadata": {
    "collapsed": true
   },
   "outputs": [],
   "source": []
  },
  {
   "cell_type": "markdown",
   "metadata": {},
   "source": [
    "4) What do we need to do to guarantee the same answer?"
   ]
  },
  {
   "cell_type": "code",
   "execution_count": null,
   "metadata": {},
   "outputs": [],
   "source": []
  },
  {
   "cell_type": "markdown",
   "metadata": {},
   "source": [
    "5) How do we defind the convergence and how fast is the convergence for monte carlo integration?"
   ]
  },
  {
   "cell_type": "code",
   "execution_count": null,
   "metadata": {
    "collapsed": true
   },
   "outputs": [],
   "source": []
  },
  {
   "cell_type": "markdown",
   "metadata": {},
   "source": [
    "## Hill Climbing"
   ]
  },
  {
   "cell_type": "code",
   "execution_count": null,
   "metadata": {},
   "outputs": [],
   "source": []
  },
  {
   "cell_type": "markdown",
   "metadata": {},
   "source": [
    "### Biggest Triangle.\n",
    "Let us consider the problem of finding the triangle with maximum area from given 500 points."
   ]
  },
  {
   "cell_type": "code",
   "execution_count": 2,
   "metadata": {},
   "outputs": [
    {
     "data": {
      "text/plain": [
       "[<matplotlib.lines.Line2D at 0x16b32453b48>]"
      ]
     },
     "execution_count": 2,
     "metadata": {},
     "output_type": "execute_result"
    },
    {
     "data": {
      "image/png": "[encoded data removed]",
      "text/plain": [
       "<Figure size 432x288 with 1 Axes>"
      ]
     },
     "metadata": {
      "needs_background": "light"
     },
     "output_type": "display_data"
    }
   ],
   "source": [
    "np.random.seed(13)\n",
    "n = 500\n",
    "x = np.random.randn(n)*2-1\n",
    "y = np.random.randn(n)*2-1\n",
    "plt.plot(x,y,'.r')"
   ]
  },
  {
   "cell_type": "code",
   "execution_count": 3,
   "metadata": {},
   "outputs": [],
   "source": [
    "def triarea(x1,y1, x2,y2, x3,y3):\n",
    "    #shoelace formula\n",
    "    return 0.5*abs(x1*y2 + x2*y3 + x3*y1 - y1*x2 - y2*x3 - y3*x1)\n",
    "\n",
    "def triarea2(r):\n",
    "    x1,y1 = r[0]\n",
    "    x2,y2 = r[1]\n",
    "    x3,y3 = r[2]\n",
    "    return triarea(x1,y1, x2,y2, x3,y3)\n"
   ]
  },
  {
   "cell_type": "code",
   "execution_count": 11,
   "metadata": {},
   "outputs": [
    {
     "data": {
      "text/plain": [
       "(-2.960548637051734, 0.06344713186599327)"
      ]
     },
     "execution_count": 11,
     "metadata": {},
     "output_type": "execute_result"
    }
   ],
   "source": [
    "r = np.array([np.random.randint(500) for i in range(3)])\n",
    "\n",
    "area = triarea(x[r[0]], y[r[0]], x[r[1]], y[r[1]], x[r[2]], y[r[2]])\n",
    "r1 = (x[r[0]], y[r[0]])\n",
    "r1"
   ]
  },
  {
   "cell_type": "code",
   "execution_count": 18,
   "metadata": {},
   "outputs": [
    {
     "name": "stdout",
     "output_type": "stream",
     "text": [
      "55.02495940056191 [205, 191, 376]\n"
     ]
    },
    {
     "data": {
      "image/png": "[encoded data removed]",
      "text/plain": [
       "<Figure size 432x288 with 1 Axes>"
      ]
     },
     "metadata": {
      "needs_background": "light"
     },
     "output_type": "display_data"
    }
   ],
   "source": [
    "def rand_idx():\n",
    "    return np.random.randint(500)\n",
    "\n",
    "def perturb(state):\n",
    "    new_state = state.copy()\n",
    "    idx_to_change = np.random.randint(3)\n",
    "    new_state[idx_to_change] = rand_idx()\n",
    "    return new_state\n",
    "\n",
    "def evaluate(state):\n",
    "    r = [(x[idx], y[idx]) for idx in state]\n",
    "    return triarea2(r)\n",
    "\n",
    "def biggest_area():\n",
    "    state = [rand_idx(), rand_idx(), rand_idx()]\n",
    "    best_score = evaluate(state)\n",
    "    for i in range(10000):\n",
    "        new_state = perturb(state)\n",
    "        new_score = evaluate(new_state)\n",
    "        if new_score > best_score:\n",
    "            best_score = new_score\n",
    "            state = new_state\n",
    "    return state, best_score\n",
    "\n",
    "sol, score = biggest_area()\n",
    "plt.plot(x, y, '.r')\n",
    "plt.plot([x[i] for i in sol], [y[i] for i in sol], 'ob')\n",
    "\n",
    "print(score, sol)"
   ]
  },
  {
   "cell_type": "code",
   "execution_count": 19,
   "metadata": {},
   "outputs": [
    {
     "name": "stdout",
     "output_type": "stream",
     "text": [
      "[1, 99, 3]\n",
      "[1, 99, 3]\n"
     ]
    }
   ],
   "source": [
    "a = [1, 2, 3]\n",
    "b = a\n",
    "b[1] = 99\n",
    "print(b)\n",
    "print(a)"
   ]
  },
  {
   "cell_type": "markdown",
   "metadata": {
    "collapsed": true
   },
   "source": [
    "### Scheduling Exam\n",
    "\n",
    "Give classes and the intersection of students. Find a decent scheduling under 15 slot for 70 classes. Number of student taking both class `i` and class `j` can be found using `student[i][j]`."
   ]
  },
  {
   "cell_type": "code",
   "execution_count": 105,
   "metadata": {},
   "outputs": [
    {
     "name": "stdout",
     "output_type": "stream",
     "text": [
      "[[ 0 25 27 ..., 40  0 54]\n",
      " [25  0 64 ...,  0  0  8]\n",
      " [27 64  0 ...,  0 69 45]\n",
      " ..., \n",
      " [40  0  0 ...,  0 25 70]\n",
      " [ 0  0 69 ..., 25  0 66]\n",
      " [54  8 45 ..., 70 66  0]]\n"
     ]
    },
    {
     "data": {
      "text/plain": [
       "<matplotlib.image.AxesImage at 0x107dad490>"
      ]
     },
     "execution_count": 105,
     "metadata": {},
     "output_type": "execute_result"
    },
    {
     "data": {
      "image/png": "[encoded data removed]",
      "text/plain": [
       "<matplotlib.figure.Figure at 0x1079ce210>"
      ]
     },
     "metadata": {},
     "output_type": "display_data"
    }
   ],
   "source": [
    "nclass = 70\n",
    "student = np.random.randint(0,100,(nclass, nclass))\n",
    "\n",
    "np.random.seed(222)\n",
    "for i in range(nclass-1):\n",
    "    for j in range(i+1,nclass):\n",
    "        student[i,j] = student[j,i]\n",
    "\n",
    "for i in range(nclass):\n",
    "    student[i,i] = 0 \n",
    "    \n",
    "student[student>70] = 0\n",
    "    \n",
    "print student\n",
    "\n",
    "plt.matshow(student)"
   ]
  },
  {
   "cell_type": "code",
   "execution_count": null,
   "metadata": {
    "collapsed": true
   },
   "outputs": [],
   "source": [
    "def min_complaint(slot):\n",
    "    state = np.array([np.random.randint(15 ) for i in range(70)])\n",
    "    best_score = evaluate(state)\n",
    "    for i in range(10000):\n",
    "        new_state = perturb(state)\n",
    "        new_score = evaluate(new_state)\n",
    "        if new_score > best_score:\n",
    "            best_score = new_score\n",
    "            state = new_state\n",
    "    return state, best_score\n",
    "\n",
    "sol, score = biggest_area()\n",
    "plt.plot(x, y, '.r')\n",
    "plt.plot([x[i] for i in sol], [y[i] for i in sol], 'ob')\n",
    "\n",
    "print(score, sol)"
   ]
  },
  {
   "cell_type": "code",
   "execution_count": null,
   "metadata": {
    "collapsed": true
   },
   "outputs": [],
   "source": []
  },
  {
   "cell_type": "markdown",
   "metadata": {},
   "source": [
    "## Substitution Cipher is a bad idea"
   ]
  },
  {
   "cell_type": "markdown",
   "metadata": {},
   "source": [
    "### Substitution Encryption\n",
    "\n",
    "One of the weakest encryption is called substibution encryption. Here is how it works let's supposed that my message that I want to send to you is\n",
    "```\n",
    "this problem is easy\n",
    "```\n",
    "\n",
    "The substition encryption works by replacing each letter using a fixed dictionary. For example, suppose my encryption key dictionary is\n",
    "```python\n",
    "{'a':'b', 'b':'c', 'c':'d', ...}\n",
    "```\n",
    "This tells that every character `a` in the message should be replaced by letter `b` in the encrypted messsage and so on.\n",
    "\n",
    "Using the dictionary above, then the encrypted message would be\n",
    "```\n",
    "uijt qspcmfn jt fbtz \n",
    "```\n",
    "\n",
    "If we know the dictionary key(which is typically agreed before sending the message), it's very easy to invert. Since `a` maps to `b` in encryption that means to decrypt it we just need to replace every `b` to `a`.\n",
    "\n",
    "ROT13 you did in programming I is an example of substitution encryption.\n",
    "\n",
    "In this problem we will use hill climbing to crack this encryption. That is we want to decrypt the message **without** knowing what the encryption key is. We are going to use math and some probabilities. For simplicity of this problem we will only deal with lower case letters and no punctuation except for space.\n",
    "\n",
    "### Problem\n",
    "\n",
    "In this problem your job is to **decrypt the msssage**.\n",
    " - The encrypted message is\n",
    "```\n",
    " vxm enkv embgryjz vxrou ro vxm qnbzp r vxroi rk vxm roftrzrvl ny vxm xjefo erop vn gnbbmzfvm fzz rvk gnovmovk qm zrwm no f azfgrp rkzfop ny ruonbfogm ro vxm erpkv ny tzfgi kmfk ny royrorvl fop rv qfk onv emfov vxfv qm kxnjzp wnlfum yfb vxm kgrmogmk mfgx kvbfrorou ro rvk nqo prbmgvrno xfwm xrvxmbvn xfbemp jk zrvvzm tjv knem pfl vxm armgrou vnumvxmb ny prkkngrfvmp ionqzmpum qrzz namo ja kjgx vmbbrylrou wrkvfk ny bmfzrvl fop ny njb ybruxvyjz ankrvrno vxmbmro vxfv qm kxfzz mrvxmb un efp ybne vxm bmwmzfvrno nb yzmm ybne vxm zruxv rovn vxm amfgm fop kfymvl ny f omq pfbi fum\n",
    "```\n",
    "\n",
    "Of course you are not given the encryption key. The goal is to find the best encryption key and decrypt the message.\n",
    "\n",
    "### What is the best key?\n",
    "\n",
    "Since you are not given the encryption key, it seems like it is impossible to decrypt the message. However, due to probabilistic nature of natural language, it is quite easy to figure out whether a random sequence of letters the real english message or not. A good key would give a decrypt message that looks like a real english message.\n",
    "\n",
    "For example, given the same encrypted message and you guess for two keys. The first key gives you the decrypted message of\n",
    "```\n",
    "i am the best\n",
    "```\n",
    "while the second key give you the decrypted message of\n",
    "```\n",
    "j bn uif cftu\n",
    "```\n",
    "It is quite clear the that top one is more like an English language therefore the first key is probably a better key.\n",
    "\n",
    "To tell a computer what sequence of letter looks more like English. We can take a look at thick book and look for how frequent 2 consecutive letters(bigram) appear in the book.\n",
    "\n",
    "For example, let's take the probability of 2 consecutive letters(bigram) to appear in an english message. The bigram `th` appears way more than `di`. So, if the encryption key that gives a lot of `th` bigram is more likely to be correct than the one that gives a lot of `di`.\n",
    "\n",
    "Plus the fact that one character word is most likely going to be either `a` or `i`. If the key we guess put `a` or `i` in there, we are probably getting the right key.\n",
    "\n",
    "Our method relies on the fact that some n consecutive letters(n-gram) appear more than other. Fortunately, someone wrote a program to read a huge amount of English books and count how many times n-gram appear. The file for 2-gram frequency is given in `count_2l.txt` and the file for 3-gram frequency is given in `count_3l.txt`. Source: http://norvig.com/ngrams/\n",
    "\n",
    "To help you, I already give you a function for reading those files and convert the frequencies to score(which is a log probability). (If you want to know why, take pattern recognition.). The result is kept in dictionaries(more on next section).\n",
    "\n",
    "### How the score works\n",
    "\n",
    "As described in the previous section, the score should be a measure of how likely a sequence of decrpyted message to be an english message. To give an accurate score, we want to split the score in to three cases depending on the length of the word.\n",
    "\n",
    "To give a score on a decrypted message. The score will be the sum of the score on each decrypted word.\n",
    "- For word with 1 letter the score is given by looking up the dictionary `unigram_score`\n",
    "- For word with 2 letters the score is given by looking up the dictionary `bigram_score`\n",
    "- For word with 3 or more letters the score is given by computing the score of **every trigram**. The score of each trigram is given by the dictionary `trigram_score`. For example, the decrypted word `defts` will score\n",
    "```python\n",
    "trigram_score['def'] + trigram_score['eft'] + trigram_score['fts']\n",
    "```\n",
    "- The total score is given by the sum of score for each word in the decrypted message.\n",
    "\n",
    "#### Note:\n",
    "For dictionary lookup fail just give it score of -100). `dict.get` is your friend.\n",
    "\n",
    "### Hint\n",
    "\n",
    " - Do not write this whole thing in one big function. You will just confuse yourself.\n",
    " - It should converge within a couple thousand iterations. If it doesn't, try agian, it might get stuck at local minima."
   ]
  },
  {
   "cell_type": "code",
   "execution_count": 21,
   "metadata": {},
   "outputs": [],
   "source": [
    "cipher_text = 'vxm enkv embgryjz vxrou ro vxm qnbzp r vxroi rk vxm roftrzrvl ny vxm xjefo erop vn gnbbmzfvm fzz rvk gnovmovk qm zrwm no f azfgrp rkzfop ny ruonbfogm ro vxm erpkv ny tzfgi kmfk ny royrorvl fop rv qfk onv emfov vxfv qm kxnjzp wnlfum yfb vxm kgrmogmk mfgx kvbfrorou ro rvk nqo prbmgvrno xfwm xrvxmbvn xfbemp jk zrvvzm tjv knem pfl vxm armgrou vnumvxmb ny prkkngrfvmp ionqzmpum qrzz namo ja kjgx vmbbrylrou wrkvfk ny bmfzrvl fop ny njb ybruxvyjz ankrvrno vxmbmro vxfv qm kxfzz mrvxmb un efp ybne vxm bmwmzfvrno nb yzmm ybne vxm zruxv rovn vxm amfgm fop kfymvl ny f omq pfbi fum'"
   ]
  },
  {
   "cell_type": "code",
   "execution_count": 22,
   "metadata": {},
   "outputs": [
    {
     "name": "stdout",
     "output_type": "stream",
     "text": [
      "vxm enkv embgryjz vxrou ro vxm qnbzp r vxroi rk vxm roftrzrvl ny vxm xjefo erop vn gnbbmzfvm fzz rvk gnovmovk qm zrwm no f azfgrp rkzfop ny ruonbfogm ro vxm erpkv ny tzfgi kmfk ny royrorvl fop rv qfk onv emfov vxfv qm kxnjzp wnlfum yfb vxm kgrmogmk mfgx kvbfrorou ro rvk nqo prbmgvrno xfwm xrvxmbvn xfbemp jk zrvvzm tjv knem pfl vxm armgrou vnumvxmb ny prkkngrfvmp ionqzmpum qrzz namo ja kjgx vmbbrylrou wrkvfk ny bmfzrvl fop ny njb ybruxvyjz ankrvrno vxmbmro vxfv qm kxfzz mrvxmb un efp ybne vxm bmwmzfvrno nb yzmm ybne vxm zruxv rovn vxm amfgm fop kfymvl ny f omq pfbi fum\n"
     ]
    }
   ],
   "source": [
    "print(cipher_text)"
   ]
  },
  {
   "cell_type": "code",
   "execution_count": 25,
   "metadata": {},
   "outputs": [],
   "source": [
    "import string\n",
    "import math\n",
    "\n",
    "def load_l2score_dict():\n",
    "    with open('count_2l.txt') as f:\n",
    "        total = 0\n",
    "        d = {}\n",
    "        for l in f:\n",
    "            t, n = l.split()\n",
    "            d[t] = int(n)\n",
    "            total += int(n)\n",
    "        for k,v in d.items():\n",
    "            d[k] = math.log(d[k]/float(total))\n",
    "        return d\n",
    "    \n",
    "def load_l3score_dict():\n",
    "    with open('count_3l.txt') as f:\n",
    "        total = 0\n",
    "        d = {}\n",
    "        for l in f:\n",
    "            t, n = l.split()\n",
    "            d[t] = int(n)\n",
    "            total += int(n)\n",
    "        for k,v in d.items():\n",
    "            d[k] = math.log(d[k]/float(total))\n",
    "    return d\n",
    "unigram_score = {x: (math.log(0.5) if x=='a' or x=='i' else -100.) for x in string.ascii_lowercase }\n",
    "bigram_score = load_l2score_dict()\n",
    "trigram_score = load_l3score_dict()"
   ]
  },
  {
   "cell_type": "code",
   "execution_count": 26,
   "metadata": {},
   "outputs": [
    {
     "name": "stdout",
     "output_type": "stream",
     "text": [
      "-0.6931471805599453\n",
      "-3.913570062071025\n",
      "-5.299868266670957\n",
      "-6.110152491400357\n"
     ]
    }
   ],
   "source": [
    "print(unigram_score['a'])\n",
    "print(bigram_score['th']) # more frequent word more score(less negative)\n",
    "print(bigram_score['di']) # less frequent word less score(more negative)\n",
    "print(trigram_score['thi'])"
   ]
  },
  {
   "cell_type": "code",
   "execution_count": 46,
   "metadata": {},
   "outputs": [
    {
     "data": {
      "text/plain": [
       "-3903.8392713492744"
      ]
     },
     "execution_count": 46,
     "metadata": {},
     "output_type": "execute_result"
    }
   ],
   "source": [
    "def initial_state():\n",
    "    return {x:x for x in string.ascii_lowercase}\n",
    "\n",
    "def perturb(state):\n",
    "    new_state = state.copy()\n",
    "    idx1 = np.random.randint(len(string.ascii_lowercase))\n",
    "    key1 = string.ascii_lowercase[idx1]\n",
    "    idx2 = np.random.randint(len(string.ascii_lowercase))\n",
    "    key2 = string.ascii_lowercase[idx2]\n",
    "    new_state[key1] = state[key2]\n",
    "    new_state[key2] = state[key1]\n",
    "    return new_state\n",
    "\n",
    "def decrypt(msg, key):\n",
    "    return ''.join([key.get(c, c) for c in msg])\n",
    "    \n",
    "def evaluate(key):\n",
    "    dmsg = decrypt(cipher_text, key)\n",
    "    tokens = dmsg.split(' ')\n",
    "    score = 0\n",
    "    for token in tokens:\n",
    "        if len(token) == 1:\n",
    "            score += unigram_score[token]\n",
    "        elif len(token) == 2:\n",
    "            score += bigram_score[token]\n",
    "        else:\n",
    "            score += sum(trigram_score.get(token[i:i+3], -100) for i in range(len(token)-2))\n",
    "    return score\n",
    "\n",
    "evaluate(initial_state())"
   ]
  },
  {
   "cell_type": "code",
   "execution_count": 42,
   "metadata": {},
   "outputs": [
    {
     "data": {
      "text/plain": [
       "'vxm enkv embgryjz vxrou ro vxm qnbzp r vxroi rk vxm roftrzrvl ny vxm xjefo erop vn gnbbmzfvm fzz rvk gnovmovk qm zrwm no f azfgrp rkzfop ny ruonbfogm ro vxm erpkv ny tzfgi kmfk ny royrorvl fop rv qfk onv emfov vxfv qm kxnjzp wnlfum yfb vxm kgrmogmk mfgx kvbfrorou ro rvk nqo prbmgvrno xfwm xrvxmbvn xfbemp jk zrvvzm tjv knem pfl vxm armgrou vnumvxmb ny prkkngrfvmp ionqzmpum qrzz namo ja kjgx vmbbrylrou wrkvfk ny bmfzrvl fop ny njb ybruxvyjz ankrvrno vxmbmro vxfv qm kxfzz mrvxmb un efp ybne vxm bmwmzfvrno nb yzmm ybne vxm zruxv rovn vxm amfgm fop kfymvl ny f omq pfbi fum'"
      ]
     },
     "execution_count": 42,
     "metadata": {},
     "output_type": "execute_result"
    }
   ],
   "source": [
    "decrypt(cipher_text, initial_state())"
   ]
  },
  {
   "cell_type": "code",
   "execution_count": 48,
   "metadata": {},
   "outputs": [
    {
     "name": "stdout",
     "output_type": "stream",
     "text": [
      "0 -3903.8392713492744\n",
      "500 -2563.7650351703783\n",
      "1000 -2424.5383502172376\n",
      "1500 -2298.1931298895906\n",
      "2000 -2073.972597023067\n",
      "2500 -1950.702370735484\n",
      "3000 -1950.702370735484\n",
      "3500 -1950.702370735484\n",
      "4000 -1950.702370735484\n",
      "4500 -1950.702370735484\n",
      "5000 -1950.702370735484\n",
      "5500 -1950.702370735484\n",
      "6000 -1950.702370735484\n",
      "6500 -1950.702370735484\n",
      "7000 -1950.702370735484\n",
      "7500 -1950.702370735484\n",
      "8000 -1950.702370735484\n",
      "8500 -1950.702370735484\n",
      "9000 -1950.702370735484\n",
      "9500 -1950.702370735484\n"
     ]
    }
   ],
   "source": [
    "def hacker_man(n):\n",
    "    state = initial_state()\n",
    "    best_score = evaluate(state)\n",
    "    for i in range(n):\n",
    "        new_state = perturb(state)\n",
    "        new_score = evaluate(new_state)\n",
    "        if new_score > best_score:\n",
    "            state = new_state\n",
    "            best_score = new_score\n",
    "        if i%500 == 0:\n",
    "            print(i, best_score)\n",
    "    return state, best_score\n",
    "\n",
    "key, _ = hacker_man(10000)"
   ]
  },
  {
   "cell_type": "code",
   "execution_count": null,
   "metadata": {},
   "outputs": [],
   "source": []
  }
 ],
 "metadata": {
  "kernelspec": {
   "display_name": "Python 3",
   "language": "python",
   "name": "python3"
  },
  "language_info": {
   "codemirror_mode": {
    "name": "ipython",
    "version": 3
   },
   "file_extension": ".py",
   "mimetype": "text/x-python",
   "name": "python",
   "nbconvert_exporter": "python",
   "pygments_lexer": "ipython3",
   "version": "3.7.4"
  },
  "toc": {
   "colors": {
    "hover_highlight": "#DAA520",
    "running_highlight": "#FF0000",
    "selected_highlight": "#FFD700"
   },
   "moveMenuLeft": true,
   "nav_menu": {
    "height": "341px",
    "width": "252px"
   },
   "navigate_menu": true,
   "number_sections": false,
   "sideBar": true,
   "threshold": 4,
   "toc_cell": false,
   "toc_section_display": "block",
   "toc_window_display": false
  }
 },
 "nbformat": 4,
 "nbformat_minor": 1
}
