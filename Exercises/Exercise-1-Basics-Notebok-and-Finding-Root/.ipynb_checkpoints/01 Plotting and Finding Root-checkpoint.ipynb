{
  "cells": [
    {
      "metadata": {},
      "cell_type": "markdown",
      "source": "# Important\nTo Execute a cell. Press Shift+Enter"
    },
    {
      "metadata": {
        "trusted": true
      },
      "cell_type": "code",
      "source": "#load all the necessary libraries\n%matplotlib inline\nfrom matplotlib import pyplot as plt\nimport numpy as np\nimport math",
      "execution_count": 7,
      "outputs": []
    },
    {
      "metadata": {},
      "cell_type": "markdown",
      "source": "# Python Recap"
    },
    {
      "metadata": {
        "trusted": false
      },
      "cell_type": "code",
      "source": "# here is how you print something\na = 1\nb = 2\nc = a + b\nprint(c)\n\n#if you want to show line number View --> Toggle Line Number",
      "execution_count": 9,
      "outputs": [
        {
          "name": "stdout",
          "output_type": "stream",
          "text": "3\n"
        }
      ]
    },
    {
      "metadata": {
        "trusted": false
      },
      "cell_type": "code",
      "source": "#conditional statement\nx = 3\nif x<5:\n    print (x, 'is less than five')\nelse:\n    print (x, 'is not less than five')",
      "execution_count": 19,
      "outputs": [
        {
          "name": "stdout",
          "output_type": "stream",
          "text": "3 is less than five\n"
        }
      ]
    },
    {
      "metadata": {
        "trusted": false
      },
      "cell_type": "code",
      "source": "#define a function\ndef f(x):\n    a = 2*x + 1\n    return a\nprint(f(10))",
      "execution_count": null,
      "outputs": []
    },
    {
      "metadata": {
        "trusted": false
      },
      "cell_type": "code",
      "source": "#while loop\ni = 0\nwhile i < 10:\n    i+=1\n    print(i, end='') #that's how you avoid new line",
      "execution_count": 11,
      "outputs": [
        {
          "name": "stdout",
          "output_type": "stream",
          "text": "12345678910"
        }
      ]
    },
    {
      "metadata": {
        "trusted": false
      },
      "cell_type": "code",
      "source": "#here is list and use it\na1 = [1,2,3,4,5,6]\nfor x in a1:\n    print(x, end='')\nprint('----')\nfor i,x in enumerate(a1): #if you also want the index\n    print(i, x)",
      "execution_count": 12,
      "outputs": [
        {
          "name": "stdout",
          "output_type": "stream",
          "text": "123456----\n0 1\n1 2\n2 3\n3 4\n4 5\n5 6\n"
        }
      ]
    },
    {
      "metadata": {
        "trusted": false
      },
      "cell_type": "code",
      "source": "#here is how to build one (not so beautiful)\n#Also notice here that I use a1 from the previous cell.\n#once you execute the code it's stored in the kernel\na2 = []\nfor x in a1:\n    a2.append(2*x)\nprint (a2)",
      "execution_count": 13,
      "outputs": [
        {
          "name": "stdout",
          "output_type": "stream",
          "text": "[2, 4, 6, 8, 10, 12]\n"
        }
      ]
    },
    {
      "metadata": {
        "trusted": false
      },
      "cell_type": "code",
      "source": "#But this is ugly\n#let us use list comprehension makes it much easier to read\na3 = [2*x+1 for x in a1]\nprint (a3)",
      "execution_count": 14,
      "outputs": [
        {
          "name": "stdout",
          "output_type": "stream",
          "text": "[3, 5, 7, 9, 11, 13]\n"
        }
      ]
    },
    {
      "metadata": {
        "trusted": false
      },
      "cell_type": "code",
      "source": "#but since we will be using it a lot we have something much better\n#it's called numpy array\n\narr = np.linspace(0,1,10) #this gives you 10 number from 0 to 10 equally spaced \nprint (arr)\nprint (2*arr) #array broadcasting magic it does what you think it should\nprint (arr**2)\nprint (np.exp(arr)) #exp function\n\n#you can also convert normal list to numpy array if you want\narr3 = np.array(a3)\nprint(arr3*2)",
      "execution_count": 15,
      "outputs": [
        {
          "name": "stdout",
          "output_type": "stream",
          "text": "[ 0.          0.11111111  0.22222222  0.33333333  0.44444444  0.55555556\n  0.66666667  0.77777778  0.88888889  1.        ]\n[ 0.          0.22222222  0.44444444  0.66666667  0.88888889  1.11111111\n  1.33333333  1.55555556  1.77777778  2.        ]\n[ 0.          0.01234568  0.04938272  0.11111111  0.19753086  0.30864198\n  0.44444444  0.60493827  0.79012346  1.        ]\n[ 1.          1.11751907  1.24884887  1.39561243  1.5596235   1.742909\n  1.94773404  2.17662993  2.43242545  2.71828183]\n[ 6 10 14 18 22 26]\n"
        }
      ]
    },
    {
      "metadata": {
        "trusted": true
      },
      "cell_type": "code",
      "source": "#plotting is easy\nxs = np.linspace(0,1,100)\nys = xs**2\nplt.plot(xs,ys)\nplt.savefig('first_plot.pdf') #you can save it too",
      "execution_count": 8,
      "outputs": [
        {
          "output_type": "display_data",
          "data": {
            "image/png": "[encoded data removed]",
            "text/plain": "<Figure size 432x288 with 1 Axes>"
          },
          "metadata": {}
        }
      ]
    },
    {
      "metadata": {
        "trusted": false
      },
      "cell_type": "code",
      "source": "plt.plot(xs,ys, color='red') #change the style too\nplt.plot(xs,xs) #and you can plot two things on the same graph\n#It can do much more see: http://matplotlib.org/gallery.html",
      "execution_count": 17,
      "outputs": [
        {
          "data": {
            "text/plain": "[<matplotlib.lines.Line2D at 0x105f0a518>]"
          },
          "execution_count": 17,
          "metadata": {},
          "output_type": "execute_result"
        },
        {
          "data": {
            "image/png": "[encoded data removed]",
            "text/plain": "<matplotlib.figure.Figure at 0x105f0a080>"
          },
          "metadata": {},
          "output_type": "display_data"
        }
      ]
    },
    {
      "metadata": {
        "trusted": true
      },
      "cell_type": "code",
      "source": "xs = np.linspace(0, 6.2, 100)\nsin_ys = np.sin(xs)\nplt.plot(xs,sin_ys, color='black')\n\nexp_ys = np.exp(xs)\nplt.plot(xs,exp_ys, color='blue')\n\nplt.ylim(-1,10)",
      "execution_count": 15,
      "outputs": [
        {
          "output_type": "execute_result",
          "execution_count": 15,
          "data": {
            "text/plain": "(-1, 10)"
          },
          "metadata": {}
        },
        {
          "output_type": "display_data",
          "data": {
            "image/png": "[encoded data removed]",
            "text/plain": "<Figure size 432x288 with 1 Axes>"
          },
          "metadata": {}
        }
      ]
    },
    {
      "metadata": {},
      "cell_type": "markdown",
      "source": "## Root Finding"
    },
    {
      "metadata": {},
      "cell_type": "markdown",
      "source": "#### 1) Consider $x = cos(x)$. Our goal is to solve for x that satisfy that.\n\nPlot something that helps you solve it."
    },
    {
      "metadata": {
        "trusted": true
      },
      "cell_type": "code",
      "source": "xs = np.linspace(0, math.pi)\nys = np.cos(xs)\n\nplt.plot(xs,ys)\nplt.plot(xs,xs)\n\nplt.xlim(0.5,1.0) #zoom in to the area we want to see more\nplt.grid() #show grid",
      "execution_count": 27,
      "outputs": [
        {
          "output_type": "display_data",
          "data": {
            "image/png": "[encoded data removed]",
            "text/plain": "<Figure size 432x288 with 1 Axes>"
          },
          "metadata": {}
        }
      ]
    },
    {
      "metadata": {},
      "cell_type": "markdown",
      "source": "#### 2) Given the what you did what is your answer?"
    },
    {
      "metadata": {
        "collapsed": true,
        "trusted": false
      },
      "cell_type": "code",
      "source": "",
      "execution_count": null,
      "outputs": []
    },
    {
      "metadata": {},
      "cell_type": "markdown",
      "source": "#### 3) How accurate is your answer?\n$answer = \\ldots \\pm \\ldots$\n\nAccuracy is also an important part for numerical algorithm --> How fast we can improve our accuracy."
    },
    {
      "metadata": {
        "collapsed": true,
        "trusted": false
      },
      "cell_type": "code",
      "source": "0.75 +- 0.05 #take the middle value and +- half of the values the answer is in\n                #in this case 0.8-0.7=0.1 so +-(0.1/2) = +- 0.05\n                #and the middle value of 0.7 and 0.8 is 0.75",
      "execution_count": null,
      "outputs": []
    },
    {
      "metadata": {},
      "cell_type": "markdown",
      "source": "#### 4) Make it more accurate"
    },
    {
      "metadata": {
        "trusted": false
      },
      "cell_type": "code",
      "source": "",
      "execution_count": null,
      "outputs": []
    },
    {
      "metadata": {},
      "cell_type": "markdown",
      "source": "#### 5) Write the equation above as $f(x)= 0$"
    },
    {
      "metadata": {
        "trusted": false
      },
      "cell_type": "code",
      "source": "",
      "execution_count": null,
      "outputs": []
    },
    {
      "metadata": {},
      "cell_type": "markdown",
      "source": "# Bisection"
    },
    {
      "metadata": {},
      "cell_type": "markdown",
      "source": "#### 1) If you use a bisection method and your starting bound is $x=0.2$ and $x=1.2$, how do you know that there is a solution by looking only at $f(0.2)$ and $f(1.2)$"
    },
    {
      "metadata": {
        "trusted": false
      },
      "cell_type": "code",
      "source": "After plotting, we find that the solution contains two different signs which tells us that there is a solution",
      "execution_count": null,
      "outputs": []
    },
    {
      "metadata": {},
      "cell_type": "markdown",
      "source": "#### 2) Plot the graph along with the two vertical line representing the bound. (use plt.axvline)"
    },
    {
      "metadata": {
        "trusted": true
      },
      "cell_type": "code",
      "source": "x = np.linspace(0,math.pi)\ny = x- np.cos(x)\n\nplt.plot(x,y)\nplt.axvline(0.2, color='red')\nplt.axvline(1.2, color='red')\nplt.axhline(0, color='red')\nplt.grid()",
      "execution_count": 53,
      "outputs": [
        {
          "output_type": "display_data",
          "data": {
            "image/png": "[encoded data removed]",
            "text/plain": "<Figure size 432x288 with 1 Axes>"
          },
          "metadata": {}
        }
      ]
    },
    {
      "metadata": {},
      "cell_type": "markdown",
      "source": "#### 3) If we guess right in the middle of the two bound what would be the error on our guess?\n$$\n    answer = \\ldots \\pm \\ldots\n$$\n"
    },
    {
      "metadata": {
        "trusted": false
      },
      "cell_type": "code",
      "source": "0.7 +- 0.5 #based within the bound",
      "execution_count": null,
      "outputs": []
    },
    {
      "metadata": {},
      "cell_type": "markdown",
      "source": "#### 4) If you want to make a new pair of bound which pair would you pick? How did you know?"
    },
    {
      "metadata": {
        "trusted": true
      },
      "cell_type": "code",
      "source": "mid = 0.7 - np.cos(0.7)\nmid #since the value is (-) we choose the side with the opposite sign based on the graph\n\n#The pair I would pick is (0.7, 1.2)",
      "execution_count": 58,
      "outputs": [
        {
          "output_type": "execute_result",
          "execution_count": 58,
          "data": {
            "text/plain": "-0.06484218728448854"
          },
          "metadata": {}
        }
      ]
    },
    {
      "metadata": {},
      "cell_type": "markdown",
      "source": "#### 5) Write a function which find solution to f(x)=0 using the method you just discovered. Try plotting as you go."
    },
    {
      "metadata": {
        "trusted": true
      },
      "cell_type": "code",
      "source": "def bisection(f: 'Function', lb: float, ub: float, n: int) -> float:\n    for i in range(n):\n        guess = (lb+ub)/2\n        y_left = f(lb)\n        y_right = f(ub)\n        y_guess = f(guess)\n        if y_left*y_guess < 0:\n            ub = guess\n        else:\n            lb = guess\n    return guess\n\ndef function(x):\n    return np.cos(x) - x\n\nbisection(function, 0.2, 1.2, 100)",
      "execution_count": 97,
      "outputs": [
        {
          "output_type": "execute_result",
          "execution_count": 97,
          "data": {
            "text/plain": "0.7390851332151616"
          },
          "metadata": {}
        }
      ]
    },
    {
      "metadata": {},
      "cell_type": "markdown",
      "source": "#### 6) Given that the intial bound is of size $S$. After $n$ iterations how accurate is your answer?\n\n$$\\text{error}(n) = \\ldots$$"
    },
    {
      "metadata": {
        "trusted": false
      },
      "cell_type": "code",
      "source": "",
      "execution_count": null,
      "outputs": []
    },
    {
      "metadata": {},
      "cell_type": "markdown",
      "source": "#### 7) Give me the solution to  $x=cos(x)$ that is at most  $10^{−6}$ away from the real answer. Verify your solution graphically."
    },
    {
      "metadata": {
        "trusted": false
      },
      "cell_type": "code",
      "source": "",
      "execution_count": null,
      "outputs": []
    },
    {
      "metadata": {},
      "cell_type": "markdown",
      "source": "# Newton's Method\nLet us do someting a bit more efficient. Suppose that we want to solve  $x^3−x=1$  using Newtons's method with initial guess at  $x=2$ . If you start to get lost, PLOT!."
    },
    {
      "metadata": {},
      "cell_type": "markdown",
      "source": "#### 1) What is the function that we are trying to find intercept? Plot it."
    },
    {
      "metadata": {
        "trusted": true
      },
      "cell_type": "code",
      "source": "xs = np.linspace(1.2,2)\nys = xs**3 - xs - 1\n\nplt.grid()\nplt.plot(xs,ys)",
      "execution_count": 143,
      "outputs": [
        {
          "output_type": "execute_result",
          "execution_count": 143,
          "data": {
            "text/plain": "[<matplotlib.lines.Line2D at 0x7ff1d6066128>]"
          },
          "metadata": {}
        },
        {
          "output_type": "display_data",
          "data": {
            "image/png": "[encoded data removed]",
            "text/plain": "<Figure size 432x288 with 1 Axes>"
          },
          "metadata": {}
        }
      ]
    },
    {
      "metadata": {},
      "cell_type": "markdown",
      "source": "#### 2) What is the slope of the tangent line at $x=2$"
    },
    {
      "metadata": {
        "trusted": true
      },
      "cell_type": "code",
      "source": "def slope(x):\n    return 3*(x**2)-1\n\nslope(2)",
      "execution_count": 120,
      "outputs": [
        {
          "output_type": "execute_result",
          "execution_count": 120,
          "data": {
            "text/plain": "11"
          },
          "metadata": {}
        }
      ]
    },
    {
      "metadata": {},
      "cell_type": "markdown",
      "source": "#### 3) What is the equation for the tangent line at  $x=2$ Plot it along with the function."
    },
    {
      "metadata": {
        "trusted": true
      },
      "cell_type": "code",
      "source": "xs = np.linspace(1.2,2)\nys = xs**3 - xs - 1\n\nm1 = 3*(2**2)-1 # m1 = 11\n\ny1 = 2**3 - 2 - 1 # y1 = 5\n\nc1 = y1 - m1*2 # c1 = -17\n\nnext_y = m1*xs + c1\n\nplt.grid()\nplt.plot(xs,ys)\nplt.plot(xs, next_y)",
      "execution_count": 144,
      "outputs": [
        {
          "output_type": "execute_result",
          "execution_count": 144,
          "data": {
            "text/plain": "<matplotlib.lines.Line2D at 0x7ff1d5d41b38>"
          },
          "metadata": {}
        },
        {
          "output_type": "display_data",
          "data": {
            "image/png": "[encoded data removed]",
            "text/plain": "<Figure size 432x288 with 1 Axes>"
          },
          "metadata": {}
        }
      ]
    },
    {
      "metadata": {},
      "cell_type": "markdown",
      "source": "#### 4) What is the intercept for that line? That's your new guess."
    },
    {
      "metadata": {
        "trusted": true
      },
      "cell_type": "code",
      "source": "new_x = -c1/m1\nprint(new_x)",
      "execution_count": 147,
      "outputs": [
        {
          "output_type": "stream",
          "text": "1.5454545454545454\n",
          "name": "stdout"
        }
      ]
    },
    {
      "metadata": {},
      "cell_type": "markdown",
      "source": "#### 5) Now combine everything in to one formula you should get something along the line of\n\n$$\nx_{n+1} = \\ldots - \\frac{\\ldots(x_n)}{\\ldots(x_n)}\n$$\n\nThis is called update rule; how you get an improved answer from the previous guess."
    },
    {
      "metadata": {
        "trusted": false
      },
      "cell_type": "code",
      "source": "new_x = xs - y1/m1",
      "execution_count": null,
      "outputs": []
    },
    {
      "metadata": {},
      "cell_type": "markdown",
      "source": "#### 6) Newton's method converges very very quickly. We will go through the derivation later on.\nNow find solution to $x^3−x=1$. Also as a plotting exercise try make something similar to this figure:\n\nHere is how I annotate the figure\n`plt.annotate('x%d'%i, xy=(x, 0), xytext=(x,-0.2), fontsize=18)`\n\n<img src=\"trythis.png\" width=\"500px\"/>"
    },
    {
      "metadata": {
        "trusted": false
      },
      "cell_type": "code",
      "source": "def newthon_method(f: 'Function', f_pr: 'F prime', x_guess:float, n: int) -> float:\n    for i in range(n):\n        x_guess = x_guess - f(x_guess)/\n    ",
      "execution_count": null,
      "outputs": []
    },
    {
      "metadata": {},
      "cell_type": "markdown",
      "source": "#### 7) Solve $\\sqrt[3]{x}=0$ by hand. What's $x$?"
    },
    {
      "metadata": {
        "trusted": false
      },
      "cell_type": "code",
      "source": "",
      "execution_count": null,
      "outputs": []
    },
    {
      "metadata": {},
      "cell_type": "markdown",
      "source": "#### 8) Try Newton's method on it.\nTry plotting as you go to see what's going on.\n\nNow you learn that even though it converges super fast. It doesn't guarantee to converge."
    },
    {
      "metadata": {
        "trusted": false
      },
      "cell_type": "code",
      "source": "def f(x):\n    return x**(1/3)\ndef f_p(x):\n    return 1/3*x**(-2/3)\nnewton_method(f = f, f_p = f_p, x_guess = 1.0, n = 5)",
      "execution_count": null,
      "outputs": []
    },
    {
      "metadata": {},
      "cell_type": "markdown",
      "source": "# Bonus\n"
    },
    {
      "metadata": {},
      "cell_type": "markdown",
      "source": "#### 1) Simplify (1+x)-1"
    },
    {
      "metadata": {
        "trusted": false
      },
      "cell_type": "code",
      "source": "",
      "execution_count": null,
      "outputs": []
    },
    {
      "metadata": {},
      "cell_type": "markdown",
      "source": "#### 2) Then why is this false"
    },
    {
      "metadata": {
        "trusted": false
      },
      "cell_type": "code",
      "source": "x = 1e-10\nprint (x)\nprint ((1+x)-1 == x)",
      "execution_count": 3,
      "outputs": [
        {
          "name": "stdout",
          "output_type": "stream",
          "text": "1e-10\nFalse\n"
        }
      ]
    }
  ],
  "metadata": {
    "kernelspec": {
      "name": "python3",
      "display_name": "Python 3",
      "language": "python"
    },
    "language_info": {
      "mimetype": "text/x-python",
      "nbconvert_exporter": "python",
      "name": "python",
      "file_extension": ".py",
      "version": "3.5.4",
      "pygments_lexer": "ipython3",
      "codemirror_mode": {
        "version": 3,
        "name": "ipython"
      }
    },
    "toc": {
      "colors": {
        "hover_highlight": "#DAA520",
        "running_highlight": "#FF0000",
        "selected_highlight": "#FFD700"
      },
      "moveMenuLeft": true,
      "nav_menu": {
        "height": "84px",
        "width": "252px"
      },
      "navigate_menu": true,
      "number_sections": false,
      "sideBar": true,
      "threshold": 4,
      "toc_cell": false,
      "toc_section_display": "block",
      "toc_window_display": false
    }
  },
  "nbformat": 4,
  "nbformat_minor": 1
}