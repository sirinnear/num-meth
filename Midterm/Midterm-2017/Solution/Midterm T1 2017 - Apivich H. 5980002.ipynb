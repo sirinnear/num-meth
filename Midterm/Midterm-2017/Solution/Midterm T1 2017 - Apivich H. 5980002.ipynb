{
 "cells": [
  {
   "cell_type": "markdown",
   "metadata": {},
   "source": [
    "# Midterm T1 2017"
   ]
  },
  {
   "cell_type": "code",
   "execution_count": 8,
   "metadata": {},
   "outputs": [],
   "source": [
    "%matplotlib inline\n",
    "import numpy as np\n",
    "from matplotlib import pyplot as plt\n",
    "import math"
   ]
  },
  {
   "cell_type": "markdown",
   "metadata": {},
   "source": [
    "The midterm consists of two parts: \n",
    "\n",
    " - **Easy Zone** which worth 100 point each which most of them you can just copy from exercise/homework\n",
    " - **Creative zone** which worth 150 points each.\n",
    " - The score for each sub question is equal unless indicated.\n",
    " - Comment your code!! If it takes me more than 5 minutes to figure out what your code does, I won't grade it.\n",
    " \n",
    " The total score is 900 but you will be graded out of 0.9*900=810."
   ]
  },
  {
   "cell_type": "markdown",
   "metadata": {},
   "source": [
    "# Easy Stuff (100 Each)"
   ]
  },
  {
   "cell_type": "markdown",
   "metadata": {},
   "source": [
    "### 1 Taylor Series\n",
    "\n",
    "1) Find the first 3 *non-zero* terms in Taylor series of\n",
    "$$f(x) = \\frac{1}{2-x}$$"
   ]
  },
  {
   "cell_type": "code",
   "execution_count": 2,
   "metadata": {
    "collapsed": true
   },
   "outputs": [],
   "source": [
    "# Working done on paper\n",
    "\n",
    "taylor = lambda x: 1 + (x-1) + (x-1)**2"
   ]
  },
  {
   "cell_type": "markdown",
   "metadata": {},
   "source": [
    "2) Use the Taylor series you found in 1) to find $$\\frac{1}{0.8}$$ **along with bound on error**."
   ]
  },
  {
   "cell_type": "code",
   "execution_count": 4,
   "metadata": {},
   "outputs": [
    {
     "name": "stdout",
     "output_type": "stream",
     "text": [
      "1/0.8 is roughly equal to 1.24\n"
     ]
    }
   ],
   "source": [
    "# For 1/0.8, we let x = 1.2\n",
    "\n",
    "print(\"1/0.8 is roughly equal to \" + str(taylor(1.2)))\n",
    "\n",
    "# Error is worked out on paper,\n",
    "# but the actual value of 1/0.8 could be anywhere from 1.24 to 1.24 + 0.0195..."
   ]
  },
  {
   "cell_type": "markdown",
   "metadata": {},
   "source": [
    "### 2 Bisection (100)"
   ]
  },
  {
   "cell_type": "markdown",
   "metadata": {},
   "source": [
    "We can find euler number $e$ by solving equation.\n",
    "\n",
    "$\\ln x = 1$\n",
    "\n",
    "\n"
   ]
  },
  {
   "cell_type": "markdown",
   "metadata": {},
   "source": [
    "1) If we want to find $e$ by bisection with starting bound of [2,3], how many iteration do we need to get it acuurate to $10^{-6}$"
   ]
  },
  {
   "cell_type": "code",
   "execution_count": null,
   "metadata": {
    "collapsed": true
   },
   "outputs": [],
   "source": [
    "# 21 iterations (working done on paper)"
   ]
  },
  {
   "cell_type": "markdown",
   "metadata": {},
   "source": [
    "2) Find $e$ that is accurate up to $10^{-6}$."
   ]
  },
  {
   "cell_type": "code",
   "execution_count": 12,
   "metadata": {},
   "outputs": [
    {
     "name": "stdout",
     "output_type": "stream",
     "text": [
      "Answer from bisection = 2.7182819843292236\n",
      "Actual value for e    = 2.718281828459045\n"
     ]
    }
   ],
   "source": [
    "def bisect(func, ran, iterations):  # Bisection function\n",
    "    low = min(ran)\n",
    "    up = max(ran)\n",
    "    mid = (up + low)/2\n",
    "    for i in range(iterations):\n",
    "        if func(up) * func(mid) < 0:\n",
    "            low = mid\n",
    "        else:\n",
    "            up = mid\n",
    "        mid = (up + low)/2\n",
    "    return mid\n",
    "\n",
    "print(\"Answer from bisection = \" + str(bisect(lambda x: math.log(x) - 1, [2, 3], 21)))\n",
    "print(\"Actual value for e    = \" + str(math.e))"
   ]
  },
  {
   "cell_type": "markdown",
   "metadata": {},
   "source": [
    "### 3. Newton's method (100)"
   ]
  },
  {
   "cell_type": "markdown",
   "metadata": {},
   "source": [
    "1) Find Newton's method update rule for solving\n",
    "\n",
    "$\\sin(x) + e^x + \\cos(x) = 5$\n"
   ]
  },
  {
   "cell_type": "code",
   "execution_count": 92,
   "metadata": {
    "collapsed": true
   },
   "outputs": [],
   "source": [
    "def newton(f, start, n):  # Using Newton's method\n",
    "    diff = lambda x: (f(x + 1e-6) - f(x - 1e-6)) / 2e-6\n",
    "    for i in range(n):\n",
    "        start = start - f(start)/diff(start)\n",
    "    return start"
   ]
  },
  {
   "cell_type": "markdown",
   "metadata": {},
   "source": [
    "2) Solve the above equation. Pick appropriate starting point."
   ]
  },
  {
   "cell_type": "code",
   "execution_count": 93,
   "metadata": {},
   "outputs": [
    {
     "data": {
      "image/png": "[encoded data removed]",
      "text/plain": [
       "<matplotlib.figure.Figure at 0x282dbbd5e48>"
      ]
     },
     "metadata": {},
     "output_type": "display_data"
    }
   ],
   "source": [
    "f = lambda x: math.sin(x) + math.exp(x) + math.cos(x) - 5\n",
    "\n",
    "ans = newton(f, 1, 5)\n",
    "\n",
    "xx = np.linspace(0, 2, 100)\n",
    "plt.plot(xx, [f(x) for x in xx])\n",
    "plt.axhline(0, color=\"red\")\n",
    "plt.axvline(ans, color=\"red\")\n",
    "plt.show()"
   ]
  },
  {
   "cell_type": "markdown",
   "metadata": {},
   "source": [
    "3) Draw an example when Newton's method doesn't work."
   ]
  },
  {
   "cell_type": "code",
   "execution_count": 94,
   "metadata": {},
   "outputs": [
    {
     "name": "stdout",
     "output_type": "stream",
     "text": [
      "(-1024.000015776533+1.3588011318328894e-07j)\n"
     ]
    }
   ],
   "source": [
    "# When you pick a bad initial point (too far away form answer) and the answer is unable to diverge to the actual solution\n",
    "\n",
    "f_ex = lambda x: x**(1/5)  # The answer to this should be x = 0\n",
    "\n",
    "print(newton(f_ex, 1, 5))  # But Newton's method breaks and gives some really big number (and somehow complex)"
   ]
  },
  {
   "cell_type": "markdown",
   "metadata": {},
   "source": [
    "### 4. Derivative (100)"
   ]
  },
  {
   "cell_type": "markdown",
   "metadata": {},
   "source": [
    "1) Plot the first and second derivative of $f(x) = e^{-x} \\sin(x)$"
   ]
  },
  {
   "cell_type": "code",
   "execution_count": 20,
   "metadata": {},
   "outputs": [
    {
     "data": {
      "image/png": "[encoded data removed]",
      "text/plain": [
       "<matplotlib.figure.Figure at 0x282db3c17f0>"
      ]
     },
     "metadata": {},
     "output_type": "display_data"
    }
   ],
   "source": [
    "# First and second order derivatives\n",
    "dx = lambda f, x, h=1e-5: (f(x+h) - f(x-h))/(2*h)\n",
    "d2x = lambda f, x, h=1e-5: (f(x+h) - 2*f(x) + f(x-h))/(h**2)\n",
    "\n",
    "f = lambda x: math.exp(-x) * math.sin(x)\n",
    "\n",
    "xx = np.linspace(-2, 2, 100)\n",
    "plt.plot(xx, [f(x)for x in xx], label=\"f(x)\")\n",
    "plt.plot(xx, [dx(f, x)for x in xx], label=\"f'(x)\")\n",
    "plt.plot(xx, [d2x(f, x)for x in xx], label=\"f''(x)\")\n",
    "plt.legend()\n",
    "plt.show()"
   ]
  },
  {
   "cell_type": "markdown",
   "metadata": {},
   "source": [
    "2) Which formula is better for approximating $f'(x)$. Answer with no justification recieve no credit.\n",
    "$$\n",
    "g_1(x) = \\frac{f(x+h) - 4 f(x-h) + 3 f(x)}{6h}\n",
    "$$\n",
    "\n",
    "$$\n",
    "g_2(x) = \\frac{f(x+2h) - 3f(x-h) + 2f(x)}{5h}\n",
    "$$"
   ]
  },
  {
   "cell_type": "code",
   "execution_count": null,
   "metadata": {
    "collapsed": true
   },
   "outputs": [],
   "source": [
    "# Answer is g2, working done on paper"
   ]
  },
  {
   "cell_type": "markdown",
   "metadata": {},
   "source": [
    "### 5. Legendre (100)"
   ]
  },
  {
   "cell_type": "markdown",
   "metadata": {},
   "source": [
    "1) Find Legendre Polynomial which passes through all these point."
   ]
  },
  {
   "cell_type": "code",
   "execution_count": 21,
   "metadata": {},
   "outputs": [
    {
     "data": {
      "image/png": "[encoded data removed]",
      "text/plain": [
       "<matplotlib.figure.Figure at 0x282db37dc18>"
      ]
     },
     "metadata": {},
     "output_type": "display_data"
    }
   ],
   "source": [
    "xs = np.array([1,3,5,7,8,9,11])\n",
    "ys = np.array([-2.,1,0,-1,0,1,2])\n",
    "\n",
    "# This function generates legendre polynomials (returns a function)\n",
    "def legendre(xs, ys):\n",
    "    def polynomial(x):\n",
    "        sum = 0\n",
    "        for i in range(len(xs)):\n",
    "            ans = ys[i]\n",
    "            for j in range(len(xs)):\n",
    "                if i != j:\n",
    "                    ans *= (x - xs[j]) / (xs[i] - xs[j])\n",
    "            sum += ans\n",
    "        return sum\n",
    "    return polynomial\n",
    "\n",
    "f = legendre(xs, ys)\n",
    "\n",
    "plt.plot(xs, ys, 'o')\n",
    "xx = np.linspace(0, 12, 100)\n",
    "plt.plot(xx, [f(x) for x in xx])\n",
    "plt.show()"
   ]
  },
  {
   "cell_type": "markdown",
   "metadata": {},
   "source": [
    "### 6. Integral (100)"
   ]
  },
  {
   "cell_type": "markdown",
   "metadata": {},
   "source": [
    "1) We want to calculate\n",
    "\n",
    "$$\\int_3^7 x^3 +1 \\; dx$$\n",
    "\n",
    "using trapezoid rule such that the answer is at most $10^{-5}$ away from the real answer how many pieces do we need?"
   ]
  },
  {
   "cell_type": "code",
   "execution_count": null,
   "metadata": {
    "collapsed": true
   },
   "outputs": [],
   "source": [
    "# At least 4733 pieces (working on paper)"
   ]
  },
  {
   "cell_type": "markdown",
   "metadata": {},
   "source": [
    "2) Use trapezoid rule to calculate\n",
    "$$\\int_3^7 x^3 + 1 \\; dx$$\n",
    "such that your answer is at most $10^{-5}$ from the real answer.\n",
    "\n"
   ]
  },
  {
   "cell_type": "code",
   "execution_count": 154,
   "metadata": {},
   "outputs": [
    {
     "name": "stdout",
     "output_type": "stream",
     "text": [
      "Integral = 584.00001\n"
     ]
    }
   ],
   "source": [
    "# Wolfram's answer is 584\n",
    "\n",
    "# This function integrates\n",
    "def trapezium(func, start, end, num):\n",
    "    ran = np.linspace(start, end, num+1)\n",
    "    return (0.5 * (func(start) + func(end)) + sum([func(i) for i in ran[1:num]])) * ((end-start)/num)\n",
    "\n",
    "f1 = lambda x: x**3 + 1\n",
    "ans_int = trapezium(f1, 3, 7, 4000)\n",
    "print(\"Integral = \" + str(ans_int))"
   ]
  },
  {
   "cell_type": "markdown",
   "metadata": {},
   "source": [
    "# Creative Stuff (It's actually easier than you think.)"
   ]
  },
  {
   "cell_type": "markdown",
   "metadata": {},
   "source": [
    "### 7. The other Legendre Polynomial.\n",
    "\n",
    "Legendre did so many things in the past sometimes we have name clash. This is a different one from what we learned in class. This Legendre Polynomial shows up many places in Physics, Engineering and data analysis. https://en.wikipedia.org/wiki/Legendre_polynomials\n",
    "\n",
    "In the homework we did fourier series where we found we can approximate complex function as a sum of sine and cosine. We can do the same thing, but instead of using sine and cosine. We will be using (the other) Legendre Polynomail. Let us get started.\n",
    "\n",
    "Legendre polynomial can be computed recursively by using the following recurrence formula:\n",
    "$$\n",
    "    P_0(x) = 1 \\\\\n",
    "    P_1(x) = x\n",
    "$$\n",
    "and \n",
    "$$\n",
    "    P_{n+1} = \\frac{1}{n+1}\\left[(2n+1)xP_n(x) - nP_{n-1}(x)\\right]\n",
    "$$\n",
    "or equivalently(this is easier for coding)\n",
    "$$\n",
    "    P_{n} = \\frac{1}{n}\\left[ (2n-1) x P_{n-1}(x) - (n-1)P_{n-2}(x)\\right]\n",
    "$$"
   ]
  },
  {
   "cell_type": "markdown",
   "metadata": {},
   "source": [
    "**Task 1** Write a function $P(x, n)$ which computes $P_n(x)$. Check your answer by plotting your $P(x, 4)$ against \n",
    "$$P_4(x) = \\frac{1}{8}(35x^4-30x^2+3)$$ \n",
    "there are couple more for you to check given on wikipedia."
   ]
  },
  {
   "cell_type": "code",
   "execution_count": 150,
   "metadata": {},
   "outputs": [
    {
     "data": {
      "image/png": "[encoded data removed]",
      "text/plain": [
       "<matplotlib.figure.Figure at 0x282db84f908>"
      ]
     },
     "metadata": {},
     "output_type": "display_data"
    },
    {
     "data": {
      "image/png": "[encoded data removed]",
      "text/plain": [
       "<matplotlib.figure.Figure at 0x282e10bb0b8>"
      ]
     },
     "metadata": {},
     "output_type": "display_data"
    }
   ],
   "source": [
    "# This function generates Legendre polynomials (as a function)\n",
    "def legendre_poly(n):\n",
    "    def poly(x):\n",
    "        if n == 0:\n",
    "            return 1\n",
    "        elif n == 1:\n",
    "            return x\n",
    "        else:\n",
    "            polyn1 = legendre_poly(n-1)\n",
    "            polyn2 = legendre_poly(n-2)\n",
    "            return ((2*n-1)*x*polyn1(x) - (n-1)*polyn2(x))/n\n",
    "    return poly\n",
    "\n",
    "# Plot test \n",
    "\n",
    "l_poly4 = legendre_poly(4)\n",
    "l_poly4_real = lambda x: (35*x**4 - 30*x**2 + 3)/8\n",
    "\n",
    "xx = np.linspace(-3, 3, 100)\n",
    "plt.plot(xx, [l_poly4(x) for x in xx], label=\"generated func\")\n",
    "plt.plot(xx, [l_poly4_real(x) for x in xx], label=\"actual legendre P4\")\n",
    "plt.legend()\n",
    "plt.show()\n",
    "\n",
    "l_poly5 = legendre_poly(5)\n",
    "l_poly5_real = lambda x: (63*x**5 - 70*x**3 + 15*x)/8\n",
    "\n",
    "plt.plot(xx, [l_poly5(x) for x in xx], label=\"generated func\")\n",
    "plt.plot(xx, [l_poly5_real(x) for x in xx], label=\"actual legendre P5\")\n",
    "plt.legend()\n",
    "plt.show()"
   ]
  },
  {
   "cell_type": "markdown",
   "metadata": {},
   "source": [
    "**Task 2** Legendre Polynomial has a very nice property that is\n",
    "$$\n",
    "\\int_{-1}^{1} P_n(x)P_m(x) \\; dx = \\begin{cases} \n",
    "0 & \\text{if }n\\neq m \\\\\n",
    "\\frac{2}{2n+1} & \\text{if } n = m\n",
    "\\end{cases}\n",
    "$$\n",
    "\n",
    "We know something about how to get computer to do integral. **Numerically show that this property is true for all pairs of n,m from 0 to 4.**\n",
    "\n",
    "Clarification: Write a function that compute the right handside quickly and compare left and right hand side. Pick a suitable number of subdivision. They should be close enough."
   ]
  },
  {
   "cell_type": "code",
   "execution_count": 151,
   "metadata": {},
   "outputs": [
    {
     "name": "stdout",
     "output_type": "stream",
     "text": [
      "Integral between P_0 and P_0 is 2.0.\n",
      "Integral between P_0 and P_1 is 0.0.\n",
      "Integral between P_0 and P_2 is 0.0.\n",
      "Integral between P_0 and P_3 is 0.0.\n",
      "Integral between P_0 and P_4 is 0.0.\n",
      "Integral between P_1 and P_0 is 0.0.\n",
      "Integral between P_1 and P_1 is 0.6667.\n",
      "Integral between P_1 and P_2 is 0.0.\n",
      "Integral between P_1 and P_3 is 0.0.\n",
      "Integral between P_1 and P_4 is -0.0.\n",
      "Integral between P_2 and P_0 is 0.0.\n",
      "Integral between P_2 and P_1 is 0.0.\n",
      "Integral between P_2 and P_2 is 0.4.\n",
      "Integral between P_2 and P_3 is 0.0.\n",
      "Integral between P_2 and P_4 is 0.0.\n",
      "Integral between P_3 and P_0 is 0.0.\n",
      "Integral between P_3 and P_1 is 0.0.\n",
      "Integral between P_3 and P_2 is 0.0.\n",
      "Integral between P_3 and P_3 is 0.2857.\n",
      "Integral between P_3 and P_4 is 0.0.\n",
      "Integral between P_4 and P_0 is 0.0.\n",
      "Integral between P_4 and P_1 is -0.0.\n",
      "Integral between P_4 and P_2 is 0.0.\n",
      "Integral between P_4 and P_3 is 0.0.\n",
      "Integral between P_4 and P_4 is 0.2222.\n"
     ]
    }
   ],
   "source": [
    "allnm = [(i,j) for i in range(5) for j in range(5)]\n",
    "\n",
    "for pairs in allnm:\n",
    "    m = pairs[0]\n",
    "    n = pairs[1]\n",
    "    f = lambda x: legendre_poly(m)(x) * legendre_poly(n)(x)\n",
    "    \n",
    "    integral = trapezium(f, -1, 1, 1000)  # This function called is from previous question\n",
    "    \n",
    "    if m == n:\n",
    "        assert(abs(integral - 2/(2*n+1)) <= 1e-4)\n",
    "    else:\n",
    "        assert(abs(integral) <= 1e-4)\n",
    "    \n",
    "    print(\"Integral between P_{0} and P_{1} is {2}.\".format(m, n, round(integral, 4)))"
   ]
  },
  {
   "cell_type": "markdown",
   "metadata": {},
   "source": [
    "**Task 3** The property we learned in Task2 is called Orthorgornality. This is actually what make fourier series magic in the homework works. This means that we can also write a complex function as a sum of Legendre Polynomials just as we did with sine and cosine in homework.\n",
    "\n",
    "$$\n",
    "    f(x) = a_0 P_0(x) + a_1 P_1(x) + a_2 P_2(x) + a_3 P_3(x) + a_4 P_4(x) + \\ldots\n",
    "$$\n",
    "\n",
    "where\n",
    "\n",
    "$$\n",
    "    a_i = \\frac{2i+1}{2}\\int_{-1}^{1} f(x) P_i(x) dx\n",
    "$$\n",
    "(Bonus:(0.0000000001 Point) Prove the above formula.)\n",
    "\n",
    "For example, an approximation of triangle function using sum of Legendre Polynomial for triangle function is shown below.\n",
    "![Triangle Aproximation](leg_series.png)\n",
    "\n",
    "**Your job: Find all the coefficient and make the plot above**\n",
    "\n",
    "Note: up to P20 one may take a while so do up to P5 and P10 and make sure you get it right first."
   ]
  },
  {
   "cell_type": "code",
   "execution_count": 110,
   "metadata": {},
   "outputs": [
    {
     "data": {
      "image/png": "[encoded data removed]",
      "text/plain": [
       "<matplotlib.figure.Figure at 0x282dce82ef0>"
      ]
     },
     "metadata": {},
     "output_type": "display_data"
    }
   ],
   "source": [
    "# Takes about a minute to run the whole thing\n",
    "\n",
    "triangle = lambda x: 1 - abs(x)\n",
    "\n",
    "# This function is to find the coefficient in front of each polynomial\n",
    "find_coeff = lambda f, leg, n: (2*n + 1) * trapezium(lambda x: f(x) * leg(x), -1, 1, 1000) / 2\n",
    "\n",
    "def plot_legendre(f, n, xx):  # Takes in the list of domain, returns a list of the values of the func for x in domain\n",
    "    lst = np.zeros(len(xx))\n",
    "    for num in range(n+1):\n",
    "        leg = legendre_poly(num)\n",
    "        coeff = find_coeff(triangle, leg, num)\n",
    "        for i in range(len(xx)):\n",
    "            lst[i] += coeff * leg(xx[i])\n",
    "    return lst\n",
    "\n",
    "xx = np.linspace(-1, 1, 100)\n",
    "plt.plot(xx, [triangle(x) for x in xx], label=\"traingle\")\n",
    "plt.plot(xx, plot_legendre(triangle, 5, xx), label=\"Legendre series to P5\")\n",
    "plt.plot(xx, plot_legendre(triangle, 10, xx), label=\"Legendre series to P10\")\n",
    "plt.plot(xx, plot_legendre(triangle, 20, xx), label=\"Legendre series to P20\")\n",
    "plt.legend()\n",
    "plt.show()"
   ]
  },
  {
   "cell_type": "markdown",
   "metadata": {},
   "source": [
    "### 8 Ply's Buffet Restaurant. (150)\n",
    "\n",
    "Since it's late evening and I know you are hungry. Let's do a problem about food.\n",
    "\n",
    "Ply apple shop business is doing very well so he expands his business line to Shabu Shabu Buffet called Meme Shabu since he know how to maximize the profit using Poisson distribution. Let us assume that the number of people who wants to eat at his restaurant each day also follows poisson distribution $P(x; \\lambda)$.\n",
    "\n",
    "It's not practical to determine how many days he sell off his buffet like in his apple shop since the food can go over a day. But Ply need to find some other method to determine the parameter $\\lambda$ which he can use to improve his business.\n",
    "\n",
    "Luckily Meme Shabu has a restaurant rating card which *every customer* fills. The rating goes from 5 to 0 stars and the nature of rating customer gives goes as follow\n",
    " - First 50 people for that day will always give 5 stars(each). Since they got good service\n",
    " - Next 50 people, will give 4 stars(each).\n",
    " - Next 50 peole, will give 3 stars(each).\n",
    " - Next 50 peole, will give 2 stars(each).\n",
    " - Next 50 peole, will give 1 stars(each).\n",
    " - The rest will either give 0 star(since they didn't receive service).\n",
    " \n",
    "For example, if there are 157 people who wants to eat at Meme Shabu. The total number of star would be $50*5 + 50*4 + 50*3 + 7*2$. It goes like tax bracket you did in programming 1.\n",
    "\n",
    "Ply found that on average the **total** number of stars his Shabu restaurant gets is 500 stars. **Find $\\lambda$.**"
   ]
  },
  {
   "cell_type": "code",
   "execution_count": 148,
   "metadata": {},
   "outputs": [
    {
     "name": "stdout",
     "output_type": "stream",
     "text": [
      "Lambda = 116.75169133681695\n"
     ]
    },
    {
     "data": {
      "text/plain": [
       "<matplotlib.lines.Line2D at 0x282e10944e0>"
      ]
     },
     "execution_count": 148,
     "metadata": {},
     "output_type": "execute_result"
    },
    {
     "data": {
      "image/png": "[encoded data removed]",
      "text/plain": [
       "<matplotlib.figure.Figure at 0x282df433048>"
      ]
     },
     "metadata": {},
     "output_type": "display_data"
    }
   ],
   "source": [
    "poisson = lambda k, lmb: math.exp((k * math.log(lmb) - lmb) - math.lgamma(k + 1))\n",
    "\n",
    "# Finds total stars given n customers\n",
    "def total_stars(n):\n",
    "    ans = 0\n",
    "    for i in range(5, 0, -1):\n",
    "        if n <= 50:\n",
    "            ans += n * i\n",
    "            break\n",
    "        else:\n",
    "            ans += 50 * i\n",
    "            n -= 50\n",
    "    return ans\n",
    "\n",
    "# Finds extected stars for given lambda\n",
    "def avg_stars(lmb):\n",
    "    avg_stars = 0\n",
    "    prob = 1\n",
    "    for n in range(250):\n",
    "        avg_stars += poisson(n, lmb) * total_stars(n)\n",
    "        prob -= poisson(n, lmb)\n",
    "    avg_stars += prob * total_stars(n)\n",
    "    return avg_stars\n",
    "\n",
    "\n",
    "# We want avg_stars(lmb) = 500, so we try to find a condition which fit this\n",
    "\n",
    "f2 = lambda lmb: avg_stars(lmb) - 500\n",
    "lmb_final = newton(f2, 100, 5)\n",
    "print(\"Lambda = \" + str(lmb_final))\n",
    "\n",
    "xx = np.linspace(1, 200, 1000)\n",
    "plt.plot(xx, [avg_stars(x) for x in xx])\n",
    "plt.axvline(lmb_final, color=\"red\")\n",
    "plt.axhline(500, color=\"red\")"
   ]
  },
  {
   "cell_type": "code",
   "execution_count": null,
   "metadata": {
    "collapsed": true
   },
   "outputs": [],
   "source": []
  }
 ],
 "metadata": {
  "kernelspec": {
   "display_name": "Python 3",
   "language": "python",
   "name": "python3"
  },
  "language_info": {
   "codemirror_mode": {
    "name": "ipython",
    "version": 3
   },
   "file_extension": ".py",
   "mimetype": "text/x-python",
   "name": "python",
   "nbconvert_exporter": "python",
   "pygments_lexer": "ipython3",
   "version": "3.6.1"
  },
  "toc": {
   "colors": {
    "hover_highlight": "#DAA520",
    "running_highlight": "#FF0000",
    "selected_highlight": "#FFD700"
   },
   "moveMenuLeft": true,
   "nav_menu": {
    "height": "30px",
    "width": "252px"
   },
   "navigate_menu": true,
   "number_sections": false,
   "sideBar": true,
   "threshold": 4,
   "toc_cell": false,
   "toc_section_display": "block",
   "toc_window_display": false
  }
 },
 "nbformat": 4,
 "nbformat_minor": 2
}
