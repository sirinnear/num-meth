{
 "cells": [
  {
   "cell_type": "code",
   "execution_count": 34,
   "metadata": {
    "ExecuteTime": {
     "end_time": "2020-02-19T01:52:21.149238Z",
     "start_time": "2020-02-19T01:52:20.713165Z"
    }
   },
   "outputs": [],
   "source": [
    "import numpy as np\n",
    "from matplotlib import pyplot as plt"
   ]
  },
  {
   "cell_type": "markdown",
   "metadata": {},
   "source": [
    "- Open everything including internet and wolfram alpha(Please do use wolfram alpha for boring tedious task). It's 2020.\n",
    "- Just no communication regarding exam. Making jokes with your friends is ok.\n",
    "- The total score is 650. You only need to do 600 to get full score."
   ]
  },
  {
   "cell_type": "markdown",
   "metadata": {},
   "source": [
    "## Problem 1\n",
    "\n",
    "### 1.1) (50)\n",
    "Use bisection to solve the following equation\n",
    "\n",
    "$\\exp(x) = x^2$\n",
    "\n",
    "make sure that the uncertainty is at most $10^{-5}$"
   ]
  },
  {
   "cell_type": "code",
   "execution_count": 116,
   "metadata": {},
   "outputs": [
    {
     "data": {
      "text/plain": [
       "-0.7034674224983632"
      ]
     },
     "execution_count": 116,
     "metadata": {},
     "output_type": "execute_result"
    },
    {
     "data": {
      "image/png": "[encoded data removed]",
      "text/plain": [
       "<Figure size 432x288 with 1 Axes>"
      ]
     },
     "metadata": {
      "needs_background": "light"
     },
     "output_type": "display_data"
    }
   ],
   "source": [
    "def bisection(f, lb, ub, n):\n",
    "    for i in range(n):\n",
    "        guess = (lb+ub)/2\n",
    "        y_left = f(lb)\n",
    "        y_right = f(ub)\n",
    "        y_guess = f(guess)\n",
    "        if y_left*y_guess < 0:\n",
    "            ub = guess\n",
    "        else:\n",
    "            lb = guess\n",
    "    return guess\n",
    "\n",
    "def f(x):\n",
    "    return np.exp(x) - x**2\n",
    "\n",
    "xs = np.linspace(-5, 5, 100)\n",
    "ys = f(xs)\n",
    "\n",
    "plt.plot(xs, ys, color='red')\n",
    "plt.axhline(0, color='black')\n",
    "# plt.xlim(-2,2)\n",
    "plt.grid()\n",
    "\n",
    "bisection(f, -2, 2, 100)"
   ]
  },
  {
   "cell_type": "markdown",
   "metadata": {},
   "source": [
    "### 1.2) (50)\n",
    "Write down the Newtons' method update rule for solving\n",
    "\n",
    "$\\exp(x) = x^2$"
   ]
  },
  {
   "cell_type": "code",
   "execution_count": 31,
   "metadata": {},
   "outputs": [
    {
     "data": {
      "text/plain": [
       "-0.7034674224983917"
      ]
     },
     "execution_count": 31,
     "metadata": {},
     "output_type": "execute_result"
    }
   ],
   "source": [
    "def newton_method(f: 'Function', f_pr: 'F prime', x_guess:float, n: int) -> float:\n",
    "    for i in range(n):\n",
    "        x_guess = x_guess - f(x_guess)/f_pr(x_guess)\n",
    "    return x_guess\n",
    "        \n",
    "def f_pr(x):\n",
    "    return np.exp(x) - 2*x\n",
    "\n",
    "newton_method(f, f_pr, 2, 100)"
   ]
  },
  {
   "cell_type": "markdown",
   "metadata": {},
   "source": [
    "## Problem 2 (Wolfram-alpha is your friend)"
   ]
  },
  {
   "cell_type": "markdown",
   "metadata": {},
   "source": [
    "### 1)  (50)\n",
    "\n",
    "Find taylor series for around x=0 for 4 **non-zero** term.\n",
    "\n",
    "$f(x) = (\\sin(x))^2$\n",
    "\n",
    "and use it to find $\\sin(0.3)^2$"
   ]
  },
  {
   "cell_type": "code",
   "execution_count": 24,
   "metadata": {},
   "outputs": [
    {
     "data": {
      "text/plain": [
       "0.08733219171428572"
      ]
     },
     "execution_count": 24,
     "metadata": {},
     "output_type": "execute_result"
    }
   ],
   "source": [
    "def taylor_series(x):\n",
    "    return x**2 - (x**4/3) + (2*x**6/45) - (x**8/315)\n",
    "\n",
    "taylor_series(0.3)"
   ]
  },
  {
   "cell_type": "markdown",
   "metadata": {},
   "source": [
    "### 2) (50)\n",
    "\n",
    "Given what you did above what is your uncertainty?\n",
    "\n",
    "\n"
   ]
  },
  {
   "cell_type": "code",
   "execution_count": 25,
   "metadata": {},
   "outputs": [
    {
     "data": {
      "text/plain": [
       "8.308751187069419e-10"
      ]
     },
     "execution_count": 25,
     "metadata": {},
     "output_type": "execute_result"
    }
   ],
   "source": [
    "(np.sin(0.3))**2 - taylor_series(0.3)"
   ]
  },
  {
   "cell_type": "markdown",
   "metadata": {},
   "source": [
    "## Problem 3\n",
    "\n",
    "### 3.1 (50)\n",
    "Suppose that we want to perform linear regression of data points $x^{(i)}$ and $y^{(i)}$ for $i=1\\ldots n$ with the function\n",
    "\n",
    "$$\n",
    "y = A \\exp(x) + B \\ln(x) + C\n",
    "$$\n",
    "\n",
    "Write down the normal equation(matrix that you need to solve to get A,B,C).\n"
   ]
  },
  {
   "cell_type": "markdown",
   "metadata": {},
   "source": [
    "$\n",
    "    \\sum y^{(i)}e^{x^{(i)}} = A\\sum e^{2x^{(i)}} + B\\sum e^{x^{(i)}}ln(x^{(i)}) + C\\sum e^{x^{(i)}} \\\\\n",
    "    \\sum y^{(i)}ln({x^{(i)}}) = A\\sum e^{x^{(i)}}ln({x^{(i)}}) + B\\sum (ln({x^{(i)}}))^2 + C\\sum ln({x^{(i)}}) \\\\\n",
    "    \\sum y^{(i)} = A\\sum e^{x^{(i)}} + B\\sum ln({x^{(i)}}) + Cn \\\\\n",
    "$\n",
    "\n",
    "Which, in matrix form is\n",
    "$$\n",
    "    \\begin{bmatrix} \\sum y^{(i)}e^{x^{(i)}} \\\\ \\sum y^{(i)}ln({x^{(i)}}) \\\\ \\sum y^{(i)}\\end{bmatrix} = \n",
    "    \\begin{bmatrix} \\sum e^{2{x^{(i)}}} & \\sum e^{x^{(i)}}ln({x^{(i)}}) & \\sum e^{x^{(i)}} \\\\ \\sum e^{x^{(i)}}ln({x^{(i)}}) & \\sum ln^2({x^{(i)}}) & \\sum ln({x^{(i)}}) \\\\ \\sum e^{x^{(i)}} & \\sum ln({x^{(i)}}) & n\\end{bmatrix}\\begin{bmatrix} A \\\\ B \\\\ C\\end{bmatrix}\n",
    "$$"
   ]
  },
  {
   "cell_type": "markdown",
   "metadata": {},
   "source": [
    "### 3.2 (50)\n",
    "\n",
    "Find Legendre Polynomial which passes through all these points"
   ]
  },
  {
   "cell_type": "code",
   "execution_count": 72,
   "metadata": {
    "ExecuteTime": {
     "end_time": "2020-02-19T01:52:21.574827Z",
     "start_time": "2020-02-19T01:52:21.152616Z"
    }
   },
   "outputs": [
    {
     "data": {
      "text/plain": [
       "[<matplotlib.lines.Line2D at 0x2197b1bc648>]"
      ]
     },
     "execution_count": 72,
     "metadata": {},
     "output_type": "execute_result"
    },
    {
     "data": {
      "image/png": "[encoded data removed]",
      "text/plain": [
       "<Figure size 432x288 with 1 Axes>"
      ]
     },
     "metadata": {
      "needs_background": "light"
     },
     "output_type": "display_data"
    }
   ],
   "source": [
    "xs = np.linspace(0,4,7)\n",
    "ys = np.sin(2*xs)**2 + np.cos(xs)\n",
    "plt.plot(xs, ys, 'o')"
   ]
  },
  {
   "cell_type": "code",
   "execution_count": 81,
   "metadata": {},
   "outputs": [
    {
     "data": {
      "text/plain": [
       "[<matplotlib.lines.Line2D at 0x2197c68f5c8>]"
      ]
     },
     "execution_count": 81,
     "metadata": {},
     "output_type": "execute_result"
    },
    {
     "data": {
      "image/png": "[encoded data removed]",
      "text/plain": [
       "<Figure size 432x288 with 1 Axes>"
      ]
     },
     "metadata": {
      "needs_background": "light"
     },
     "output_type": "display_data"
    }
   ],
   "source": [
    "def make_w(i, xs):\n",
    "    this_x = xs[i]\n",
    "    the_rest = [x for j, x in enumerate(xs) if i != j]\n",
    "    denom = np.prod([this_x - x_rest for x_rest in the_rest])\n",
    "    def w(x):\n",
    "        return np.prod([x - x_rest for x_rest in the_rest])/denom\n",
    "    return w\n",
    "\n",
    "def make_legendre(xs, ys):\n",
    "    ws = [make_w(i, xs) for i,x in enumerate(xs)]\n",
    "    def legendre(x):\n",
    "        return sum(w(x)*y for w, y in zip(ws, ys))\n",
    "    return legendre\n",
    "\n",
    "\n",
    "xxs = np.linspace(0,4,100)\n",
    "yys = np.sin(2*xxs)**2 + np.cos(xxs)\n",
    "x_leg = make_legendre(xs, ys)\n",
    "y_leg = [x_leg(x) for x in xxs]\n",
    "\n",
    "plt.plot(xs, ys, 'o')\n",
    "plt.plot(xxs, y_leg)"
   ]
  },
  {
   "cell_type": "markdown",
   "metadata": {},
   "source": [
    "## Problem 4\n",
    "\n",
    "### 4.1 (50)\n",
    "\n",
    "Use trapezoid rule to find the following integral. Make sure the uncertainty of your answer is less than $10^{-5}$\n",
    "\n",
    "$$\n",
    "     \\int_0^2 2\\sin(3x) \\; \\text{dx}\n",
    "$$\n",
    "\n"
   ]
  },
  {
   "cell_type": "code",
   "execution_count": 11,
   "metadata": {},
   "outputs": [
    {
     "data": {
      "text/plain": [
       "0.026553062573615154"
      ]
     },
     "execution_count": 11,
     "metadata": {},
     "output_type": "execute_result"
    }
   ],
   "source": [
    "def trapezoid(f, a, b, n):\n",
    "    h = (b-a)/n\n",
    "    return (h/2)*(f(a) + 2*sum(f(a+i*h) for i in range(1, n)) + f(b))\n",
    "\n",
    "def f(x):\n",
    "    return 2*np.sin(3*x)\n",
    "\n",
    "trapezoid(f, 0, 2, 1000)"
   ]
  },
  {
   "cell_type": "markdown",
   "metadata": {},
   "source": [
    "### 4.2 (50)\n",
    "\n",
    "Plot **first** and **second** derivative of $\\sin(x^2)$ for $x=0\\ldots 5$."
   ]
  },
  {
   "cell_type": "code",
   "execution_count": 44,
   "metadata": {},
   "outputs": [
    {
     "data": {
      "text/plain": [
       "<matplotlib.legend.Legend at 0x2197924e648>"
      ]
     },
     "execution_count": 44,
     "metadata": {},
     "output_type": "execute_result"
    },
    {
     "data": {
      "image/png": "[encoded data removed]",
      "text/plain": [
       "<Figure size 432x288 with 1 Axes>"
      ]
     },
     "metadata": {
      "needs_background": "light"
     },
     "output_type": "display_data"
    }
   ],
   "source": [
    "def first_diff(f, x, h):\n",
    "    return (f(x+h) - f(x-h))/(2*h)\n",
    "\n",
    "def second_diff(f, x, h):\n",
    "    return (f(x+2*h) - 2*f(x) + f(x-2*h))/(4*h**2)\n",
    "\n",
    "def f(x):\n",
    "    return np.sin(x**2)\n",
    "\n",
    "xs = np.linspace(0, 5, 100)\n",
    "ys = [f(x) for x in xs]\n",
    "h = 1e-3\n",
    "\n",
    "first_ys = [first_diff(f, x, h) for x in xs]\n",
    "second_ys = [second_diff(f, x, h) for x in xs]\n",
    "\n",
    "plt.plot(xs, ys, color='green', label='f(x)')\n",
    "plt.plot(xs, first_ys, color='red', label='f\\'(x)')\n",
    "plt.plot(xs, second_ys, label='f\\'\\'(x)')\n",
    "plt.legend(loc='lower left')"
   ]
  },
  {
   "cell_type": "markdown",
   "metadata": {},
   "source": [
    "## Problem 5(100). Tracking Alien\n",
    "\n",
    "In the year 3088, MUIC becomes humanity last fortress against alien attack. You are trying to figure out where the alien hideout exactly is from the alien partial footprint track. There are two types of aliens\n",
    "\n",
    "1. Red alien which always travel in a straight line $y = A x + B$.\n",
    "\n",
    "2. Blue alien which travel is a weird sinusodal line $y = C\\sin(4x) +D x + E$.\n",
    "\n",
    "Both alien species are originating from `exactly the same hideout` ($x_{hideout}, y_{hideout}$)\n",
    "<img src=\"hideout.png\" width=\"300px\"/>\n",
    "\n",
    "The track data is given below.\n",
    "\n",
    "**Your task:**\n",
    "\n",
    "Find the hideout."
   ]
  },
  {
   "cell_type": "code",
   "execution_count": 46,
   "metadata": {
    "ExecuteTime": {
     "end_time": "2020-02-19T01:52:22.080220Z",
     "start_time": "2020-02-19T01:52:21.580367Z"
    }
   },
   "outputs": [
    {
     "data": {
      "text/plain": [
       "[<matplotlib.lines.Line2D at 0x21979bcb4c8>]"
      ]
     },
     "execution_count": 46,
     "metadata": {},
     "output_type": "execute_result"
    },
    {
     "data": {
      "image/png": "[encoded data removed]",
      "text/plain": [
       "<Figure size 432x288 with 1 Axes>"
      ]
     },
     "metadata": {
      "needs_background": "light"
     },
     "output_type": "display_data"
    }
   ],
   "source": [
    "# DO NOT TOUCH THIS\n",
    "np.random.seed(12345)\n",
    "n_red = 1000\n",
    "red_xs = np.linspace(3, 5,n_red)\n",
    "red_ys = 3 * red_xs + 4. + np.random.randn(n_red)\n",
    "plt.plot(red_xs, red_ys, '.r')\n",
    "\n",
    "n_blue = 1000\n",
    "blue_xs = np.linspace(3,5,n_blue)\n",
    "blue_ys = 3*np.sin(blue_xs*4)-10 * blue_xs + 30. + np.random.randn(n_blue)\n",
    "plt.plot(blue_xs, blue_ys, '.b')"
   ]
  },
  {
   "cell_type": "code",
   "execution_count": 96,
   "metadata": {},
   "outputs": [],
   "source": [
    "def forward_elim(A,C):\n",
    "    nrow, ncol = A.shape\n",
    "    for i_pivot_row in range(nrow):\n",
    "        pivot_row = A[i_pivot_row]\n",
    "        denom = A[i_pivot_row][i_pivot_row]\n",
    "        A[i_pivot_row] = A[i_pivot_row] / denom\n",
    "        C[i_pivot_row] = C[i_pivot_row] / denom\n",
    "        for i_target_row in range(i_pivot_row+1,nrow):\n",
    "            coef = A[i_target_row,i_pivot_row] / A[i_pivot_row, i_pivot_row]\n",
    "            A[i_target_row]= A[i_target_row] - coef*A[i_pivot_row]\n",
    "            C[i_target_row]= C[i_target_row] - coef*C[i_pivot_row]\n",
    "            \n",
    "            denom = A[i_target_row,i_target_row]\n",
    "            A[i_target_row] = A[i_target_row] / denom\n",
    "            C[i_target_row] = C[i_target_row] / denom\n",
    "            \n",
    "    return A,C\n",
    "\n",
    "def backward_elim(a,c):\n",
    "    A = a.copy()\n",
    "    C = c.copy()\n",
    "    n_row, m_col = A.shape\n",
    "    for i_pivot_row in range (n_row-1, -1, -1):\n",
    "        for i_target_row in range(i_pivot_row-1, -1, -1):\n",
    "            coef = A[i_target_row,i_pivot_row]/A[i_pivot_row, i_pivot_row]\n",
    "            A[i_target_row] = A[i_target_row] - coef*A[i_pivot_row]\n",
    "            C[i_target_row] = C[i_target_row] - C[i_pivot_row]*coef\n",
    "    return C\n",
    "            \n",
    "def gaussian_elim(a,c):\n",
    "    d,e = forward_elim(a,c)\n",
    "    return backward_elim(d,e)"
   ]
  },
  {
   "cell_type": "code",
   "execution_count": 120,
   "metadata": {},
   "outputs": [
    {
     "name": "stdout",
     "output_type": "stream",
     "text": [
      "[3.02263976] [3.90709023]\n",
      "[2.98477982] [-9.92461078] [29.71510486]\n"
     ]
    },
    {
     "data": {
      "text/plain": [
       "[<matplotlib.lines.Line2D at 0x2197cf60748>]"
      ]
     },
     "execution_count": 120,
     "metadata": {},
     "output_type": "execute_result"
    },
    {
     "data": {
      "image/png": "[encoded data removed]",
      "text/plain": [
       "<Figure size 432x288 with 1 Axes>"
      ]
     },
     "metadata": {
      "needs_background": "light"
     },
     "output_type": "display_data"
    }
   ],
   "source": [
    "plt.plot(red_xs, red_ys, '.r')\n",
    "plt.plot(blue_xs, blue_ys, '.b')\n",
    "\n",
    "#red alien\n",
    "A = np.array([ [sum(red_xs**2), sum(red_xs)],\n",
    "              [sum(red_xs), len(red_xs)] \n",
    "             ])\n",
    "C = np.array([ [sum(red_ys*red_xs)], \n",
    "              [sum(red_ys)] \n",
    "             ])\n",
    "res_red = gaussian_elim(A, C)\n",
    "\n",
    "a = res_red[0]\n",
    "b = res_red[1]\n",
    "\n",
    "print(a, b)\n",
    "\n",
    "def f(x):\n",
    "    return a*x + b\n",
    "\n",
    "red_y = f(red_xs)\n",
    "\n",
    "plt.plot(red_xs, red_y)\n",
    "\n",
    "#blue alien\n",
    "D = np.array([ [sum((np.sin(4*blue_xs))**2), sum(blue_xs*np.sin(4*blue_xs)), sum(np.sin(4*blue_xs))],\n",
    "              [sum(blue_xs*np.sin(4*blue_xs)), sum(blue_xs**2), sum(blue_xs)],\n",
    "              [sum(np.sin(4*blue_xs)), sum(blue_xs), len(blue_xs)]\n",
    "             ])\n",
    "E = np.array([ [sum(blue_ys*np.sin(4*blue_xs))],\n",
    "              [sum(blue_ys*blue_xs)],\n",
    "              [sum(blue_ys)]\n",
    "             ])\n",
    "res_blue = gaussian_elim(D, E)\n",
    "\n",
    "c = res_blue[0]\n",
    "d = res_blue[1]\n",
    "e = res_blue[2]\n",
    "\n",
    "print(c, d, e)\n",
    "\n",
    "def g(x):\n",
    "    return c*np.sin(4*x) + d*x + e\n",
    "\n",
    "blue_y = g(blue_xs)\n",
    "\n",
    "plt.plot(blue_xs, blue_y)"
   ]
  },
  {
   "cell_type": "code",
   "execution_count": 126,
   "metadata": {},
   "outputs": [
    {
     "name": "stdout",
     "output_type": "stream",
     "text": [
      "x =  2.157715032013799 \ty =  10.429085486452157\n"
     ]
    },
    {
     "data": {
      "image/png": "[encoded data removed]",
      "text/plain": [
       "<Figure size 432x288 with 1 Axes>"
      ]
     },
     "metadata": {
      "needs_background": "light"
     },
     "output_type": "display_data"
    }
   ],
   "source": [
    "xs = np.linspace(-5,5, 100)\n",
    "fx = [f(x) for x in xs]\n",
    "gx = [g(x) for x in xs]\n",
    "plt.plot(xs,fx)\n",
    "plt.plot(xs,gx)\n",
    "plt.ylim(-20,20)\n",
    "plt.xlim(1,3)\n",
    "\n",
    "def h(x):\n",
    "    return f(x) - g(x)\n",
    "\n",
    "\n",
    "intersect = bisection(h, -5, 5, 100)\n",
    "\n",
    "plt.axvline(intersect, linestyle='dashed', color='red')\n",
    "print('x = ', intersect, '\\ty = ', f(intersect)[0])"
   ]
  },
  {
   "cell_type": "markdown",
   "metadata": {},
   "source": [
    "# Problem 6(150)."
   ]
  },
  {
   "cell_type": "markdown",
   "metadata": {
    "ExecuteTime": {
     "end_time": "2020-02-18T10:12:43.274867Z",
     "start_time": "2020-02-18T10:12:42.128588Z"
    }
   },
   "source": [
    "**Disclaimer**: This is an oversimplified model. It doesn't really represent the actual situation. After the term ends you will have enough knowledge to do a much better model.\n",
    "\n",
    "This problem concerns the spread of COVID-19 virus. The basic model is the following\n",
    "\n",
    "- At the beginning of day 1 there is excaly 1 patient.\n",
    "\n",
    "- During each day, each active patient(see next one) will spread virus to $R$ more persons.\n",
    "Ex: If $R=0.5$, and at the beginning of the day there are 10 patients. Then at the end of the day, $0.5 \\times 10 = 5$ **more** people gets infected. (Keep all the precisions even if it's not the whole number)\n",
    "\n",
    "- 14 days after infection. The patient either die off(more below) or heal and will no longer spread the virus to others. Ex: This means that the first patient will no longer spread the virus at the end of day 14(during day 14 he still spread the virus). In particular, number of newly infected patient during day 50 is $\\sum_{i=36..49} \\text{newly_infected}_i$\n",
    "\n",
    "- 14 days after infection. A proportion $d$ of patient who are already infected for 14 days will die off and $(1-d)$ will be healed at the end of the day. \n",
    "In particular, if during day 12 there are $n_{12}$ more people who get infected during the day. At the end of day 26, $d \\times n_{12}$ will die off.\n",
    "\n",
    "**Your Task:**\n",
    "\n",
    "At the **beginning** of Day 81 (80 days have passed), there are 80,000 total infected patient(including spreading, dead and healed) and 1000 dead . \n",
    "1. Find $R$.\n",
    "2. Then, find $d$.\n",
    "\n",
    "\n",
    "**Hint**\n",
    "\n",
    "To get last 5 element of the list you can do ``x[-5:]``\n",
    "\n",
    "For you to check your answer.\n",
    "\n",
    "If $R=0.2$ and $d=0.1$, the number of newly infected patient on each day is as follow:\n",
    "```\n",
    "day 0 - newly infected(during) 1 - dead(at the end) 0\n",
    "day 1 - newly infected(during) 0.2 - dead(at the end) 0\n",
    "day 2 - newly infected(during) 0.24 - dead(at the end) 0\n",
    "day 3 - newly infected(during) 0.288 - dead(at the end) 0\n",
    "day 4 - newly infected(during) 0.3456 - dead(at the end) 0\n",
    "day 5 - newly infected(during) 0.41472 - dead(at the end) 0\n",
    "day 6 - newly infected(during) 0.497664 - dead(at the end) 0\n",
    "day 7 - newly infected(during) 0.5971968 - dead(at the end) 0\n",
    "day 8 - newly infected(during) 0.71663616 - dead(at the end) 0\n",
    "day 9 - newly infected(during) 0.8599633919999999 - dead(at the end) 0\n",
    "day 10 - newly infected(during) 1.0319560704 - dead(at the end) 0\n",
    "day 11 - newly infected(during) 1.2383472844799999 - dead(at the end) 0\n",
    "day 12 - newly infected(during) 1.486016741376 - dead(at the end) 0\n",
    "day 13 - newly infected(during) 1.7832200896512 - dead(at the end) 0\n",
    "day 14 - newly infected(during) 2.13986410758144 - dead(at the end) 0.1\n",
    "day 15 - newly infected(during) 2.3678369290977277 - dead(at the end) 0.020000000000000004\n",
    "day 16 - newly infected(during) 2.8014043149172734 - dead(at the end) 0.024\n",
    "day 17 - newly infected(during) 3.3136851779007284 - dead(at the end) 0.0288\n",
    "day 18 - newly infected(during) 3.9188222134808743 - dead(at the end) 0.03456\n",
    "day 19 - newly infected(during) 4.633466656177048 - dead(at the end) 0.041472\n",
    "day 20 - newly infected(during) 5.477215987412459 - dead(at the end) 0.0497664\n",
    "day 21 - newly infected(during) 6.47312638489495 - dead(at the end) 0.05971968\n",
    "day 22 - newly infected(during) 7.648312301873941 - dead(at the end) 0.071663616\n",
    "day 23 - newly infected(during) 9.034647530248728 - dead(at the end) 0.0859963392\n",
    "day 24 - newly infected(during) 10.669584357898474 - dead(at the end) 0.10319560704\n",
    "day 25 - newly infected(during) 12.597110015398169 - dead(at the end) 0.12383472844799999\n",
    "day 26 - newly infected(during) 14.868862561581802 - dead(at the end) 0.1486016741376\n",
    "day 27 - newly infected(during) 17.545431725622965 - dead(at the end) 0.17832200896512002\n",
    "day 28 - newly infected(during) 20.697874052817316 - dead(at the end) 0.213986410758144\n",
    "day 29 - newly infected(during) 24.409476041864494 - dead(at the end) 0.23678369290977277\n",
    "day 30 - newly infected(during) 28.81780386441784 - dead(at the end) 0.28014043149172735\n",
    "day 31 - newly infected(during) 34.02108377431796 - dead(at the end) 0.33136851779007287\n",
    "day 32 - newly infected(during) 40.162563493601404 - dead(at the end) 0.3918822213480875\n",
    "day 33 - newly infected(during) 47.41131174962551 - dead(at the end) 0.4633466656177048\n",
    "day 34 - newly infected(during) 55.9668807683152 - dead(at the end) 0.5477215987412459\n",
    "day 35 - newly infected(during) 66.06481372449575 - dead(at the end) 0.647312638489495\n",
    "day 36 - newly infected(during) 77.98315119241592 - dead(at the end) 0.7648312301873941\n",
    "day 37 - newly infected(during) 92.05011897052431 - dead(at the end) 0.9034647530248728\n",
    "day 38 - newly infected(during) 108.65321325857943 - dead(at the end) 1.0669584357898474\n",
    "day 39 - newly infected(during) 128.2499390387156 - dead(at the end) 1.259711001539817\n",
    "day 40 - newly infected(during) 151.3805048433791 - dead(at the end) 1.4868862561581802\n",
    "day 41 - newly infected(during) 178.68283329973858 - dead(at the end) 1.7545431725622966\n",
    "day 42 - newly infected(during) 210.9103136145617 - dead(at the end) 2.0697874052817316\n",
    "day 43 - newly infected(during) 248.95280152691058 - dead(at the end) 2.4409476041864497\n",
    "day 44 - newly infected(during) 293.8614666239198 - dead(at the end) 2.8817803864417844\n",
    "day 45 - newly infected(during) 346.8701991758202 - dead(at the end) 3.402108377431796\n",
    "day 46 - newly infected(during) 409.4400222561206 - dead(at the end) 4.01625634936014\n",
    "day 47 - newly infected(during) 483.2955140086245 - dead(at the end) 4.741131174962551\n",
    "day 48 - newly infected(during) 570.4723544604243 - dead(at the end) 5.59668807683152\n",
    "day 49 - newly infected(during) 673.3734491988462 - dead(at the end) 6.606481372449576\n",
    "day 50 - newly infected(during) 794.8351762937164 - dead(at the end) 7.798315119241592\n",
    "day 51 - newly infected(during) 938.2055813139764 - dead(at the end) 9.205011897052431\n",
    "day 52 - newly infected(during) 1107.4366737826665 - dead(at the end) 10.865321325857943\n",
    "day 53 - newly infected(during) 1307.193365887484 - dead(at the end) 12.824993903871562\n",
    "day 54 - newly infected(during) 1542.9820512572378 - dead(at the end) 15.13805048433791\n",
    "day 55 - newly infected(during) 1821.3023605400097 - dead(at the end) 17.86828332997386\n",
    "day 56 - newly infected(during) 2149.826265988064 - dead(at the end) 21.09103136145617\n",
    "day 57 - newly infected(during) 2537.6094564627642 - dead(at the end) 24.895280152691058\n",
    "day 58 - newly infected(during) 2995.3407874499353 - dead(at the end) 29.38614666239198\n",
    "day 59 - newly infected(during) 3535.636651615138 - dead(at the end) 34.68701991758202\n",
    "day 60 - newly infected(during) 4173.389942103002 - dead(at the end) 40.94400222561206\n",
    "day 61 - newly infected(during) 4926.179926072378 - dead(at the end) 48.32955140086245\n",
    "day 62 - newly infected(during) 5814.756808485129 - dead(at the end) 57.047235446042436\n",
    "day 63 - newly infected(during) 6863.613699290069 - dead(at the end) 67.33734491988461\n",
    "day 64 - newly infected(during) 8101.661749308315 - dead(at the end) 79.48351762937165\n",
    "day 65 - newly infected(during) 9563.027063911235 - dead(at the end) 93.82055813139765\n",
    "day 66 - newly infected(during) 11287.991360430688 - dead(at the end) 110.74366737826665\n",
    "day 67 - newly infected(during) 13324.102297760292 - dead(at the end) 130.7193365887484\n",
    "day 68 - newly infected(during) 15727.484084134852 - dead(at the end) 154.2982051257238\n",
    "day 69 - newly infected(during) 18564.384490710374 - dead(at the end) 182.130236054001\n",
    "day 70 - newly infected(during) 21913.00091674445 - dead(at the end) 214.9826265988064\n",
    "day 71 - newly infected(during) 25865.635846895726 - dead(at the end) 253.76094564627644\n",
    "day 72 - newly infected(during) 30531.24112498232 - dead(at the end) 299.53407874499356\n",
    "day 73 - newly infected(during) 36038.4211924888 - dead(at the end) 353.5636651615138\n",
    "day 74 - newly infected(during) 42538.97810066353 - dead(at the end) 417.3389942103002\n",
    "day 75 - newly infected(during) 50212.09573237563 - dead(at the end) 492.61799260723785\n",
    "day 76 - newly infected(during) 59269.278893636285 - dead(at the end) 581.475680848513\n",
    "day 77 - newly infected(during) 69960.18331066651 - dead(at the end) 686.361369929007\n",
    "day 78 - newly infected(during) 82579.49723294181 - dead(at the end) 810.1661749308315\n",
    "day 79 - newly infected(during) 97475.06432966852 - dead(at the end) 956.3027063911236\n",
    "day 80 - newly infected(during) 115057.47178281995 - dead(at the end) 1128.7991360430688\n",
    "```\n",
    "\n",
    "\n",
    "\n",
    "**Bonus: 0.0000000000001 point just for fun**\n",
    "\n",
    "You can think about this model as if we makes no effort in controlling the virus. No quarantine, no awareness, no reserch on the cure. You will find that with this model and the number you found the virus will take over the world.\n",
    "\n",
    "In real life, a lot of effort are made to control the virus, you can think about it as $R$ is decreasing over time.\n",
    "\n",
    "To see why this is important:\n",
    "\n",
    "Given this model, there is a critical value of $R$ that is if $R$ is greater than the critical value the virus will take over the world. Find/Approximate $R_\\text{critical}$.\n",
    "\n"
   ]
  },
  {
   "cell_type": "code",
   "execution_count": null,
   "metadata": {},
   "outputs": [],
   "source": []
  }
 ],
 "metadata": {
  "hide_input": false,
  "kernelspec": {
   "display_name": "Python 3",
   "language": "python",
   "name": "python3"
  },
  "language_info": {
   "codemirror_mode": {
    "name": "ipython",
    "version": 3
   },
   "file_extension": ".py",
   "mimetype": "text/x-python",
   "name": "python",
   "nbconvert_exporter": "python",
   "pygments_lexer": "ipython3",
   "version": "3.7.4"
  },
  "toc": {
   "colors": {
    "hover_highlight": "#DAA520",
    "running_highlight": "#FF0000",
    "selected_highlight": "#FFD700"
   },
   "moveMenuLeft": true,
   "nav_menu": {
    "height": "30px",
    "width": "252px"
   },
   "navigate_menu": true,
   "number_sections": false,
   "sideBar": true,
   "threshold": 4,
   "toc_cell": false,
   "toc_section_display": "block",
   "toc_window_display": false
  }
 },
 "nbformat": 4,
 "nbformat_minor": 2
}
