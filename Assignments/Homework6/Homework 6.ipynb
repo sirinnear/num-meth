{
 "cells": [
  {
   "cell_type": "markdown",
   "metadata": {},
   "source": [
    "## Homework 6\n",
    "\n",
    "### 1) \n",
    "Solving Nonlinear system of Equation.\n",
    "$$x + y + z = 6$$\n",
    "$$x^2 + y^2 + z^2 = 14$$\n",
    "$$x^3 + y^3 + z^3 = 36$$\n",
    "Recommend: Use $x=1.0, y=0.0, z=-1.0$ as initial guess."
   ]
  },
  {
   "cell_type": "code",
   "execution_count": null,
   "metadata": {},
   "outputs": [],
   "source": []
  },
  {
   "cell_type": "markdown",
   "metadata": {},
   "source": [
    "### 2) \n",
    "Let us consider the fruit shop in MUIC canteen. On each day the shop owner needs to figure out how many mangoes to buy on each day.\n",
    "\n",
    "MUIC has about 4000 students: 2200 female and 1800 male.\n",
    "The probability that a female student will buy mangoes on a day is about 5% and for male student is 3%.\n",
    "\n",
    "Each mango costs the shop 8 Baht a piece. The shop sell it for 20 Baht making 12 Baht profit. To make the problem simple we will assume two things.\n",
    "\n",
    " 1. Mango last only one day which means any left over mango worth 0 Baht at the end of the day.\n",
    " 2. To make the problem simple let us ignore the fixed cost such as rent and labor.\n",
    " 3. The shop owner cannot refill mango during the day. If the shop ran out of mango, and next customer comes in. The shop can't make the sale.\n",
    " \n",
    "The shopowner wants to maximize the profit. If the shop owner take the risk by buying a lot he will not be short of mango on a good day, but on a bad day he/she will lose a lot. The shop owner can play safe by buying very few mango so he/she don't lose too much on a bad day, but he/she will miss out a lot of money on a good day.\n",
    "\n",
    "Your task is to figure out how many mangoes the shop owner should buy.\n",
    "\n",
    "Hint: Use simulation and make a useful plot."
   ]
  },
  {
   "cell_type": "code",
   "execution_count": null,
   "metadata": {},
   "outputs": [],
   "source": []
  },
  {
   "cell_type": "markdown",
   "metadata": {},
   "source": [
    "### 3)\n",
    "\n",
    "Let us consider a simplified game of Blackjack. The game is a two-player game: dealer vs player. The goal of the game is get the sum of the card closest to but not over 21.\n",
    "\n",
    "The cards are counted as follows\n",
    "\n",
    "1. 2,3,4,5,6,7,8,9 are counted for the number on the card\n",
    "2. J,Q,K are counted as 10\n",
    "3. A are counted as either 1 or 11. Whichever one that gets us closer but not over 21.\n",
    "\n",
    "Here are some example\n",
    "\n",
    "1. 2, J has the sum of 2+10=12\n",
    "2. J Q has the sum of 10+10 = 10\n",
    "3. J A has the sum of 10+11 = 21\n",
    "4. A 2 J has the sum of 1 + 2 + 10 = 13 (Ace here counts as one since 11 will make the sum over 21)\n",
    "\n",
    "Here is how the game works:\n",
    "\n",
    "1. At the beginning each player gets two cards.\n",
    "2. If one player got 21 with that two cards, that player wins. If both players got 21 with the two cards then it's a draw.\n",
    "3. The player start first. The player can choose to stop or draw more cards for a chance to improve his/her hand. For this problem we will only consider the algorithm that if the player hand is strictly less than 17 he will draw. If the player has 17 or more, he/will keep drawing until the hand he/she has is 17 or more.\n",
    "4. If after any draw, the player has more than 21. This is called busted. Once the player is busted the player lose the game immediately.\n",
    "5. If the player stop drawing, and the dealer will start drawing with the same algorithm explained in 3. That is if the dealer has the sum of less than 17 the dealer will keep drawing until his hand is more than 17.\n",
    "6. If the dealer is busted, the dealer lose.(Note that if the player is busted, the dealer wins immediately regardless of the result from dealer's draw)\n",
    "7. If the dealer is not busted, then the sum of player hands and dealer hand are compared. Whoever got the higher number wins.\n",
    "\n",
    "**Your task**: Suppose we are playing this game with infinite amount of card deck. This means that the next card we draw is independent of the cards that are already out. *Calculate the probability that the player wins*."
   ]
  },
  {
   "cell_type": "code",
   "execution_count": null,
   "metadata": {},
   "outputs": [],
   "source": []
  },
  {
   "cell_type": "markdown",
   "metadata": {},
   "source": [
    "# 4) Queue Theory\n",
    "\n",
    "In this problem we want to study customer queue.\n",
    "\n",
    "### 4.1) Poisson process.\n",
    "\n",
    "The poisson process can be defined by time between 2 customer arrival(TBA) of exponential distribution. \n",
    "That is the probility density that the TBA of customer $i$ and customer $i+1$ is $t$ is given by\n",
    "\n",
    "$$\n",
    "P(t) = \\lambda e^{-\\lambda t}\n",
    "$$\n",
    "\n",
    "This means that we need to be able to generate a random number in exponential distribution.\n",
    "The easiest way to do this is Inverse CDF(cumulative distribution function). The main idea is to turn a uniform random number from $0-1$ to the desired distribution. Here is how you do it\n",
    "\n",
    "- Generate a uniform real random number $x$ from 0-1\n",
    "- We will pretend that it is the number for CDF. That is \n",
    "$$\n",
    "x = \\int_0^t P(t') \\text{d}t' = 1- e^{- \\lambda t}\n",
    "$$\n",
    "\n",
    "- Get $t$ from the above relation that is\n",
    "$$\n",
    "    t = - \\frac{\\log(1-x)}{\\lambda}\n",
    "$$\n",
    "\n",
    "**Your Task**\n",
    "write the function ***def exp_rand($\\lambda$)*** which random number distributed by exponential distribution.\n",
    "\n",
    "\n",
    "- Optional: figure out why inverse CDF Method works. It has to do with the fact that differentiate of integral is the original function.\n",
    "\n",
    "If you do it right you should get this. (Notice how the distribution is reduced by a half when $t=\\frac{1}{\\lambda}$\n",
    "\n",
    "<img style=\"width:300px\" src=\"task1.png\"/>"
   ]
  },
  {
   "cell_type": "code",
   "execution_count": null,
   "metadata": {},
   "outputs": [],
   "source": []
  },
  {
   "cell_type": "markdown",
   "metadata": {},
   "source": [
    "### 4.2 Generate 1 Day.\n",
    "\n",
    "What we want to do in this task is to generate the arrival time of all customers with in a day. This can be done by using the fact that the time between two arrivals is exponentially distributed and make sure that the sum of the time is less than $14$\n",
    "\n",
    "Given that 1 Store day is 14 hours. \n",
    "\n",
    "**Your Task** write a function that generate *arrival times* for all people within a day. If $\\lambda$ is $300/14 \\frac{person}{hour}$ more on the unit in the next part\n",
    "\n",
    "Hint: np.cumsum is your friend"
   ]
  },
  {
   "cell_type": "code",
   "execution_count": null,
   "metadata": {},
   "outputs": [],
   "source": []
  },
  {
   "cell_type": "markdown",
   "metadata": {},
   "source": [
    "### 4.3 \n",
    "\n",
    "Find the mean of total number who comes into the store in a 14 hour day. You should find that it's exactly $\\lambda t$. Hence the unit for $\\lambda$"
   ]
  },
  {
   "cell_type": "code",
   "execution_count": null,
   "metadata": {},
   "outputs": [],
   "source": []
  },
  {
   "cell_type": "markdown",
   "metadata": {},
   "source": [
    "### 4.4 (This requires a bit of thinking before writing the code)\n",
    "Let's supposed that there are 2 cashier registers. Each can process customer at the fixed rate of $5 \\frac{minute}{person}$. \n",
    "\n",
    "Find the average and standard deviation for waiting time for the customer. (This assume that people stand in one sigle long line and go to the next available cashier). (Wait time doesn't include the fixed processing time of 5 minutes).\n",
    "\n",
    "Recommended Easy Implementation: Generate a Day. Round it up and simulate the processing by minute-ish resolution should be good enough.\n",
    "\n",
    "\n",
    "I got 0.10275426621160401 hour."
   ]
  },
  {
   "cell_type": "code",
   "execution_count": null,
   "metadata": {},
   "outputs": [],
   "source": []
  }
 ],
 "metadata": {
  "kernelspec": {
   "display_name": "Python 3",
   "language": "python",
   "name": "python3"
  },
  "language_info": {
   "codemirror_mode": {
    "name": "ipython",
    "version": 3
   },
   "file_extension": ".py",
   "mimetype": "text/x-python",
   "name": "python",
   "nbconvert_exporter": "python",
   "pygments_lexer": "ipython3",
   "version": "3.7.0"
  },
  "toc": {
   "colors": {
    "hover_highlight": "#DAA520",
    "running_highlight": "#FF0000",
    "selected_highlight": "#FFD700"
   },
   "moveMenuLeft": true,
   "nav_menu": {
    "height": "174px",
    "width": "252px"
   },
   "navigate_menu": true,
   "number_sections": false,
   "sideBar": true,
   "threshold": 4,
   "toc_cell": false,
   "toc_section_display": "block",
   "toc_window_display": false
  }
 },
 "nbformat": 4,
 "nbformat_minor": 2
}
