{
 "cells": [
  {
   "cell_type": "code",
   "execution_count": 1,
   "metadata": {},
   "outputs": [],
   "source": [
    "%matplotlib inline\n",
    "from matplotlib import pyplot as plt\n",
    "import numpy as np\n",
    "import math"
   ]
  },
  {
   "cell_type": "markdown",
   "metadata": {},
   "source": [
    "## Homework 6\n",
    "\n",
    "### 1) \n",
    "Solving Nonlinear system of Equation.\n",
    "$$x + y + z = 6$$\n",
    "$$x^2 + y^2 + z^2 = 14$$\n",
    "$$x^3 + y^3 + z^3 = 36$$\n",
    "Recommend: Use $x=1.0, y=0.0, z=-1.0$ as initial guess."
   ]
  },
  {
   "cell_type": "code",
   "execution_count": 4,
   "metadata": {},
   "outputs": [],
   "source": [
    "def u(x,y,z):\n",
    "    return x + y + z -6\n",
    "def v(x,y,z):\n",
    "    return x**2 + y**2 + z**2 - 14\n",
    "def w(x,y,z):\n",
    "    return x**3 + y**3 + z**3 - 36\n",
    "\n",
    "def dux(x,y,z):\n",
    "    return 1.\n",
    "def duy(x,y,z):\n",
    "    return 1.\n",
    "def duz(x,y,z):\n",
    "    return 1.\n",
    "\n",
    "def dvx(x,y,z):\n",
    "    return 2.*x\n",
    "def dvy(x,y,z):\n",
    "    return 2.*y\n",
    "def dvz(x,y,z):\n",
    "    return 2.*z\n",
    "\n",
    "def dwx(x,y,z):\n",
    "    return 3.*x**2\n",
    "def dwy(x,y,z):\n",
    "    return 3.*y**2\n",
    "def dwz(x,y,z):\n",
    "    return 3.*z**2"
   ]
  },
  {
   "cell_type": "code",
   "execution_count": 9,
   "metadata": {},
   "outputs": [
    {
     "name": "stdout",
     "output_type": "stream",
     "text": [
      "The answer is\n",
      "x = 3.0\n",
      "y = 1.0\n",
      "z = 2.0\n"
     ]
    }
   ],
   "source": [
    "def newton(start,n):\n",
    "    xi,yi,zi = start\n",
    "    for i in range(n):\n",
    "        A= np.array([\n",
    "            [dux(xi,yi,zi),duy(xi,yi,zi),duz(xi,yi,zi)],\n",
    "            [dvx(xi,yi,zi),dvy(xi,yi,zi),dvz(xi,yi,zi)],\n",
    "            [dwx(xi,yi,zi),dwy(xi,yi,zi),dwz(xi,yi,zi)]])\n",
    "        C= np.array([-u(xi,yi,zi),\n",
    "                     -v(xi,yi,zi),\n",
    "                     -w(xi,yi,zi)])\n",
    "        dx,dy,dz = np.linalg.solve(A,C)\n",
    "        xi = xi+ dx\n",
    "        yi = yi+ dy\n",
    "        zi = zi+ dz\n",
    "#         print(xi,yi,zi)\n",
    "    return xi,yi,zi\n",
    "\n",
    "init_guess = [1.,0.,-1.]\n",
    "x_ans, y_ans, z_ans = newton(init_guess, 10)\n",
    "\n",
    "print(\"The answer is\")\n",
    "print(\"x =\", round(x_ans))\n",
    "print(\"y =\", round(y_ans))\n",
    "print(\"z =\", round(z_ans))"
   ]
  },
  {
   "cell_type": "markdown",
   "metadata": {},
   "source": [
    "### 2) \n",
    "Let us consider the fruit shop in MUIC canteen. On each day the shop owner needs to figure out how many mangoes to buy on each day.\n",
    "\n",
    "MUIC has about 4000 students: 2200 female and 1800 male.\n",
    "The probability that a female student will buy mangoes on a day is about 5% and for male student is 3%.\n",
    "\n",
    "Each mango costs the shop 8 Baht a piece. The shop sell it for 20 Baht making 12 Baht profit. To make the problem simple we will assume two things.\n",
    "\n",
    " 1. Mango last only one day which means any left over mango worth 0 Baht at the end of the day.\n",
    " 2. To make the problem simple let us ignore the fixed cost such as rent and labor.\n",
    " 3. The shop owner cannot refill mango during the day. If the shop ran out of mango, and next customer comes in. The shop can't make the sale.\n",
    " \n",
    "The shopowner wants to maximize the profit. If the shop owner take the risk by buying a lot he will not be short of mango on a good day, but on a bad day he/she will lose a lot. The shop owner can play safe by buying very few mango so he/she don't lose too much on a bad day, but he/she will miss out a lot of money on a good day.\n",
    "\n",
    "Your task is to figure out how many mangoes the shop owner should buy.\n",
    "\n",
    "Hint: Use simulation and make a useful plot."
   ]
  },
  {
   "cell_type": "code",
   "execution_count": 13,
   "metadata": {},
   "outputs": [
    {
     "data": {
      "image/png": "[encoded data removed]",
      "text/plain": [
       "<Figure size 432x288 with 1 Axes>"
      ]
     },
     "metadata": {
      "needs_background": "light"
     },
     "output_type": "display_data"
    }
   ],
   "source": [
    "n_men = 1800\n",
    "n_women = 2200\n",
    "c_women = 0.05\n",
    "c_men = 0.03\n",
    "def buy_fruit(chance=0.05):\n",
    "    decision = np.random.rand()\n",
    "    if(decision <= chance):\n",
    "        return 1\n",
    "    else:\n",
    "        return 0\n",
    "    \n",
    "def fruit_day_sim_sales():\n",
    "    sales = 0\n",
    "    sales = sales + np.sum([buy_fruit(c_men) for i in range(n_men)])\n",
    "    sales = sales + np.sum([buy_fruit(c_women) for i in range(n_women)])\n",
    "    return sales\n",
    "\n",
    "#The point is we want to find the earning on average\n",
    "def evaluate(mango):\n",
    "    earned = 0.\n",
    "    for i in range(30): \n",
    "    #We need to consider good and bad days and sum them up to find average\n",
    "        demand = fruit_day_sim_sales()\n",
    "        leftover = mango - demand\n",
    "        if(leftover < 0):\n",
    "            leftover = 0\n",
    "        earned = earned+((mango-leftover)*20 - mango*8)\n",
    "    return earned/30 \n",
    "\n",
    "def shop_hist_plotter(n=1000):\n",
    "    data = [fruit_day_sim_sales() for i in range(n)]\n",
    "    plt.hist(data, bins=200, label='Number of mangoes sold')\n",
    "    plt.legend()\n",
    "    return data\n",
    "\n",
    "data_generated = shop_hist_plotter(2000)"
   ]
  },
  {
   "cell_type": "markdown",
   "metadata": {},
   "source": [
    "So, the shop owner should see how often that mangoes are sold in 2000 days. On average, mangoes are bought around 160 to 180 mangoes by the kids. The average profit is around 2,000 Baht.\n",
    "\n",
    "Observation : Minimize the amount of mangos and maximize the profit"
   ]
  },
  {
   "cell_type": "code",
   "execution_count": 15,
   "metadata": {},
   "outputs": [
    {
     "name": "stdout",
     "output_type": "stream",
     "text": [
      "The shop owner could buy  170  mangoes. The maximum profit could be  1935.3333333333333  Baht\n"
     ]
    },
    {
     "data": {
      "image/png": "[encoded data removed]",
      "text/plain": [
       "<Figure size 432x288 with 1 Axes>"
      ]
     },
     "metadata": {
      "needs_background": "light"
     },
     "output_type": "display_data"
    }
   ],
   "source": [
    "def monte_carlo(n=1000):\n",
    "    mango = np.random.randint(100,300) \n",
    "    max_mango = mango\n",
    "    max_profit = float('-inf')         \n",
    "    for i in range(n):\n",
    "        mango = np.random.randint(100,300)\n",
    "        earned = evaluate(mango)\n",
    "        if max_profit < earned:\n",
    "            max_profit = earned\n",
    "            max_mango = mango\n",
    "        plt.plot(mango, earned, 'ob')\n",
    "    plt.plot(max_mango, max_profit, 'or')\n",
    "    return max_mango, max_profit\n",
    "\n",
    "mango, profit = monte_carlo(1000)\n",
    "print(\"The shop owner could buy \", mango,\" mangoes. The maximum profit could be \", profit, \" Baht\")"
   ]
  },
  {
   "cell_type": "markdown",
   "metadata": {},
   "source": [
    "### 3)\n",
    "\n",
    "Let us consider a simplified game of Blackjack. The game is a two-player game: dealer vs player. The goal of the game is get the sum of the card closest to but not over 21.\n",
    "\n",
    "The cards are counted as follows\n",
    "\n",
    "1. 2,3,4,5,6,7,8,9 are counted for the number on the card\n",
    "2. J,Q,K are counted as 10\n",
    "3. A are counted as either 1 or 11. Whichever one that gets us closer but not over 21.\n",
    "\n",
    "Here are some example\n",
    "\n",
    "1. 2, J has the sum of 2+10=12\n",
    "2. J Q has the sum of 10+10 = 10\n",
    "3. J A has the sum of 10+11 = 21\n",
    "4. A 2 J has the sum of 1 + 2 + 10 = 13 (Ace here counts as one since 11 will make the sum over 21)\n",
    "\n",
    "Here is how the game works:\n",
    "\n",
    "1. At the beginning each player gets two cards.\n",
    "2. If one player got 21 with that two cards, that player wins. If both players got 21 with the two cards then it's a draw.\n",
    "3. The player start first. The player can choose to stop or draw more cards for a chance to improve his/her hand. For this problem we will only consider the algorithm that if the player hand is strictly less than 17 he will draw. If the player has 17 or more, he/will keep drawing until the hand he/she has is 17 or more.\n",
    "4. If after any draw, the player has more than 21. This is called busted. Once the player is busted the player lose the game immediately.\n",
    "5. If the player stop drawing, and the dealer will start drawing with the same algorithm explained in 3. That is if the dealer has the sum of less than 17 the dealer will keep drawing until his hand is more than 17.\n",
    "6. If the dealer is busted, the dealer lose.(Note that if the player is busted, the dealer wins immediately regardless of the result from dealer's draw)\n",
    "7. If the dealer is not busted, then the sum of player hands and dealer hand are compared. Whoever got the higher number wins.\n",
    "\n",
    "**Your task**: Suppose we are playing this game with infinite amount of card deck. This means that the next card we draw is independent of the cards that are already out. *Calculate the probability that the player wins*."
   ]
  },
  {
   "cell_type": "code",
   "execution_count": 16,
   "metadata": {},
   "outputs": [],
   "source": [
    "def draw():\n",
    "    i = np.random.randint(13)\n",
    "    if(i>=10):\n",
    "        return 10\n",
    "    else:\n",
    "        return i\n",
    "\n",
    "def check_A(hand):\n",
    "    score = sum(hand)\n",
    "    optimal_hand = []\n",
    "    for card in hand:\n",
    "        if(card==1 and score <= 11):\n",
    "            optimal_hand.append(11)\n",
    "            score = score + 10\n",
    "        elif(card==11 and 21 < score):\n",
    "            optimal_hand.append(1)\n",
    "            score = score - 10\n",
    "        else:\n",
    "            optimal_hand.append(card)\n",
    "    return optimal_hand\n",
    "\n",
    "def blackjack_sim():\n",
    "    player = check_A([draw(),draw()])\n",
    "    dealer = check_A([draw(),draw()])\n",
    "    while(sum(player)<17): #If player's hand is less than 17, continue drawing until 17 or more\n",
    "        player = check_A(player+[draw()])\n",
    "        if(sum(player) > 21):\n",
    "            return 0. \n",
    "    while(sum(dealer)<17): #If dealer's hand is less than 17, continue drawing until 17 or more\n",
    "        dealer = check_A(dealer+[draw()])\n",
    "        if(sum(dealer) > 21):\n",
    "            return 1. \n",
    "        if sum(dealer) == 21:\n",
    "            return 0.\n",
    "    if(sum(player) > sum(dealer)):\n",
    "        return 1.\n",
    "    return 0."
   ]
  },
  {
   "cell_type": "code",
   "execution_count": 24,
   "metadata": {},
   "outputs": [
    {
     "name": "stdout",
     "output_type": "stream",
     "text": [
      "The probability that the player would win in 100 games is 0.49\n",
      "The probability that the player would win in 1000 games is 0.382\n",
      "The probability that the player would win in 10000 games is 0.411\n",
      "The probability that the player would win in 100000 games is 0.4085\n",
      "\n",
      "For more than 100000 games, the probability is estimated to be > 0.40936\n"
     ]
    }
   ],
   "source": [
    "def blackjack_sim_n_games(n):\n",
    "    history = [blackjack_sim() for i in range(n)]\n",
    "    return np.sum(history)/n\n",
    "ns = [100,1000,10000, 100000]\n",
    "for i in ns:\n",
    "    probability = blackjack_sim_n_games(i)\n",
    "    print(\"The probability that the player would win in\",i,\"games is\",probability)\n",
    "print(\"\\nFor more than 100000 games, the probability is estimated to be > 0.40936\")"
   ]
  },
  {
   "cell_type": "markdown",
   "metadata": {},
   "source": [
    "# 4) Queue Theory\n",
    "\n",
    "In this problem we want to study customer queue.\n",
    "\n",
    "### 4.1) Poisson process.\n",
    "\n",
    "The poisson process can be defined by time between 2 customer arrival(TBA) of exponential distribution. \n",
    "That is the probility density that the TBA of customer $i$ and customer $i+1$ is $t$ is given by\n",
    "\n",
    "$$\n",
    "P(t) = \\lambda e^{-\\lambda t}\n",
    "$$\n",
    "\n",
    "This means that we need to be able to generate a random number in exponential distribution.\n",
    "The easiest way to do this is Inverse CDF(cumulative distribution function). The main idea is to turn a uniform random number from $0-1$ to the desired distribution. Here is how you do it\n",
    "\n",
    "- Generate a uniform real random number $x$ from 0-1\n",
    "- We will pretend that it is the number for CDF. That is \n",
    "$$\n",
    "x = \\int_0^t P(t') \\text{d}t' = 1- e^{- \\lambda t}\n",
    "$$\n",
    "\n",
    "- Get $t$ from the above relation that is\n",
    "$$\n",
    "    t = - \\frac{\\log(1-x)}{\\lambda}\n",
    "$$\n",
    "\n",
    "**Your Task**\n",
    "write the function ***def exp_rand($\\lambda$)*** which random number distributed by exponential distribution.\n",
    "\n",
    "\n",
    "- Optional: figure out why inverse CDF Method works. It has to do with the fact that differentiate of integral is the original function.\n",
    "\n",
    "If you do it right you should get this. (Notice how the distribution is reduced by a half when $t=\\frac{1}{\\lambda}$\n",
    "\n",
    "<img style=\"width:300px\" src=\"task1.png\"/>"
   ]
  },
  {
   "cell_type": "code",
   "execution_count": 26,
   "metadata": {},
   "outputs": [],
   "source": [
    "def exp_rand(lda): #lambda\n",
    "    random = np.random.rand()\n",
    "    return -math.log(1-random)/lda"
   ]
  },
  {
   "cell_type": "code",
   "execution_count": 27,
   "metadata": {},
   "outputs": [
    {
     "data": {
      "image/png": "[encoded data removed]",
      "text/plain": [
       "<Figure size 432x288 with 1 Axes>"
      ]
     },
     "metadata": {
      "needs_background": "light"
     },
     "output_type": "display_data"
    }
   ],
   "source": [
    "a = [exp_rand(0.5) for i in range(10000)]\n",
    "plt.hist(a,bins=np.linspace(0,5,100));"
   ]
  },
  {
   "cell_type": "markdown",
   "metadata": {},
   "source": [
    "### 4.2 Generate 1 Day.\n",
    "\n",
    "What we want to do in this task is to generate the arrival time of all customers with in a day. This can be done by using the fact that the time between two arrivals is exponentially distributed and make sure that the sum of the time is less than $14$\n",
    "\n",
    "Given that 1 Store day is 14 hours. \n",
    "\n",
    "**Your Task** write a function that generate *arrival times* for all people within a day. If $\\lambda$ is $300/14 \\frac{person}{hour}$ more on the unit in the next part\n",
    "\n",
    "Hint: np.cumsum is your friend"
   ]
  },
  {
   "cell_type": "code",
   "execution_count": 31,
   "metadata": {},
   "outputs": [
    {
     "data": {
      "text/plain": [
       "[<matplotlib.lines.Line2D at 0x26323c04e08>]"
      ]
     },
     "execution_count": 31,
     "metadata": {},
     "output_type": "execute_result"
    },
    {
     "data": {
      "image/png": "[encoded data removed]",
      "text/plain": [
       "<Figure size 1440x216 with 1 Axes>"
      ]
     },
     "metadata": {
      "needs_background": "light"
     },
     "output_type": "display_data"
    }
   ],
   "source": [
    "lda2 = 300./14.\n",
    "\n",
    "def day_gen(hours=14):\n",
    "    time = 0\n",
    "    arrivals = []\n",
    "    while(time < hours):\n",
    "        arv = exp_rand(lda2)\n",
    "        arrivals.append(round(arv,5))\n",
    "        time = time + arv\n",
    "    if(sum(arrivals)>hours):\n",
    "        arrivals.pop()\n",
    "    return np.cumsum(arrivals)\n",
    "\n",
    "queue = day_gen(1)\n",
    "xs = [1 for i in range(len(queue))]\n",
    "plt.plot(queue,xs,\".\")"
   ]
  },
  {
   "cell_type": "markdown",
   "metadata": {},
   "source": [
    "### 4.3 \n",
    "\n",
    "Find the mean of total number who comes into the store in a 14 hour day. You should find that it's exactly $\\lambda t$. Hence the unit for $\\lambda$"
   ]
  },
  {
   "cell_type": "code",
   "execution_count": 37,
   "metadata": {},
   "outputs": [
    {
     "name": "stdout",
     "output_type": "stream",
     "text": [
      "300.06625\n",
      "21.433303571428574\n",
      "21.428571428571427\n"
     ]
    }
   ],
   "source": [
    "def get_mean_total_visitor(n=100000):\n",
    "    visitors_sum = 0\n",
    "    for i in range(n):\n",
    "        queue = day_gen(14)\n",
    "        visitors_sum = visitors_sum + len(queue)\n",
    "    mean= visitors_sum/100000\n",
    "    return mean\n",
    "\n",
    "mean = get_mean_total_visitor()\n",
    "print(mean)\n",
    "print(mean/14)\n",
    "print(300/14)"
   ]
  },
  {
   "cell_type": "code",
   "execution_count": 38,
   "metadata": {},
   "outputs": [
    {
     "name": "stdout",
     "output_type": "stream",
     "text": [
      "The mean of total number who comes into the store in a 14 hour day = 300.06625\n"
     ]
    }
   ],
   "source": [
    "print(\"The mean of total number who comes into the store in a 14 hour day =\",mean)"
   ]
  },
  {
   "cell_type": "markdown",
   "metadata": {},
   "source": [
    "### 4.4 (This requires a bit of thinking before writing the code)\n",
    "Let's supposed that there are 2 cashier registers. Each can process customer at the fixed rate of $5 \\frac{minute}{person}$. \n",
    "\n",
    "Find the average and standard deviation for waiting time for the customer. (This assume that people stand in one sigle long line and go to the next available cashier). (Wait time doesn't include the fixed processing time of 5 minutes).\n",
    "\n",
    "Recommended Easy Implementation: Generate a Day. Round it up and simulate the processing by minute-ish resolution should be good enough.\n",
    "\n",
    "\n",
    "I got 0.10275426621160401 hour."
   ]
  },
  {
   "cell_type": "code",
   "execution_count": 71,
   "metadata": {},
   "outputs": [],
   "source": [
    "rate = round(5/60,5)\n",
    "minute = round(1/60,5)\n",
    "\n",
    "#Nice, now we simulate how system works D:\n",
    "\n",
    "def is_reg_done(t):\n",
    "    if(t < rate):\n",
    "        return 0\n",
    "    return 1\n",
    "\n",
    "#I swear, this is harder than i thought\n",
    "def waiting_time_simulator(p_time=5/60): #Only once!\n",
    "    time = 0\n",
    "    times = []\n",
    "    day_q = day_gen(0.3)\n",
    "    q_i = 0\n",
    "    print(day_q)\n",
    "    reg_1 = 0 #0 is free\n",
    "    reg_2 = 0 #0 is free\n",
    "    reg_1_time_done = 0 \n",
    "    reg_2_time_done = 0 \n",
    "    free_reg = 2\n",
    "    terminate = 0 #When to stop assigning job\n",
    "    total_people = len(day_q)\n",
    "    wait_time = 0\n",
    "    wait_records = []\n",
    "    w_i = 0\n",
    "    while(q_i < total_people and terminate == 0):\n",
    "        #free register\n",
    "        if(time >= reg_1_time_done and reg_1 == 1):\n",
    "            reg_1 = 0\n",
    "            free_reg = free_reg +1\n",
    "            print(\"reg_1 freed\")\n",
    "\n",
    "        if(time >= reg_2_time_done and reg_2 == 1):\n",
    "            reg_2 = 0\n",
    "            free_reg = free_reg +1\n",
    "            print(\"reg_2 freed\")\n",
    "\n",
    "        while(free_reg > 0 and q_i < total_people and terminate == 0): \n",
    "        #While there are free register, assign job\n",
    "        #FIFO - queue - service when the customer arrive at that minute\n",
    "            if time < day_q[q_i]:\n",
    "                break\n",
    "            if(reg_1 == 0): \n",
    "                print(\"reg_1 used\", q_i)\n",
    "                #Take first register and calculate when the register is free again\n",
    "                #Then prepare to service next visitor\n",
    "                reg_1 = 1 \n",
    "                free_reg = free_reg - 1\n",
    "                reg_1_time_done = time + p_time\n",
    "                q_i = q_i +1\n",
    "                if(q_i == total_people):\n",
    "                    terminate = 1\n",
    "                else:\n",
    "                    print(\"Next customer \",day_q[q_i])\n",
    "                continue\n",
    "            if(reg_2 == 0):\n",
    "                print(\"reg_2 used\",q_i)\n",
    "                #Take second register and calculate when the register is free again\n",
    "                #Then prepare to service next visitor\n",
    "                reg_2 = 1 \n",
    "                free_reg = free_reg - 1\n",
    "                reg_2_time_done = time + p_time\n",
    "                q_i = q_i +1\n",
    "                if(q_i == total_people):\n",
    "                    terminate = 1\n",
    "                else:\n",
    "                    print(\"Next customer \",day_q[q_i])\n",
    "\n",
    "        #Time to wait, if there are upcoming customers today but not taking services\n",
    "        #NOT DONE\n",
    "        if(terminate == 0):\n",
    "            if(wait_time > 0 and w_i != q_i):\n",
    "                print(\"Resetting\", wait_time)\n",
    "                wait_time = 0\n",
    "            if(time >= day_q[q_i]):\n",
    "                wait_records.append(wait_time)\n",
    "                wait_time = wait_time + minute\n",
    "                w_i = q_i\n",
    "                print(\"Waiting time =\", wait_time)\n",
    "        time = time + minute\n",
    "        print(time)\n",
    "        \n",
    "    print(\"\\n\", wait_records)\n",
    "    return wait_records"
   ]
  },
  {
   "cell_type": "code",
   "execution_count": 75,
   "metadata": {},
   "outputs": [
    {
     "name": "stdout",
     "output_type": "stream",
     "text": [
      "[0.03234 0.06586 0.14963 0.1621  0.24306 0.24665 0.25045 0.26779]\n",
      "0.01667\n",
      "0.03334\n",
      "reg_1 used 0\n",
      "Next customer  0.06586\n",
      "0.05001\n",
      "0.06668\n",
      "reg_2 used 1\n",
      "Next customer  0.14962999999999999\n",
      "0.08335000000000001\n",
      "0.10002000000000001\n",
      "0.11669000000000002\n",
      "reg_1 freed\n",
      "0.13336\n",
      "0.15003\n",
      "reg_2 freed\n",
      "reg_1 used 2\n",
      "Next customer  0.1621\n",
      "0.1667\n",
      "reg_2 used 3\n",
      "Next customer  0.24306\n",
      "0.18336999999999998\n",
      "0.20003999999999997\n",
      "0.21670999999999996\n",
      "0.23337999999999995\n",
      "reg_1 freed\n",
      "0.25004999999999994\n",
      "reg_2 freed\n",
      "reg_1 used 4\n",
      "Next customer  0.24665\n",
      "reg_2 used 5\n",
      "Next customer  0.25045\n",
      "0.26671999999999996\n",
      "Waiting time = 0.01667\n",
      "0.28339\n",
      "Waiting time = 0.03334\n",
      "0.30006\n",
      "Waiting time = 0.05001\n",
      "0.31673\n",
      "Waiting time = 0.06668\n",
      "0.33340000000000003\n",
      "reg_1 freed\n",
      "reg_2 freed\n",
      "reg_1 used 6\n",
      "Next customer  0.26779000000000003\n",
      "reg_2 used 7\n",
      "0.35007000000000005\n",
      "\n",
      " [0, 0.01667, 0.03334, 0.05001]\n",
      "Average waiting time: 0.025005\n",
      "Standard deviation for waiting time: 0.018637626592460745\n"
     ]
    }
   ],
   "source": [
    "wait_times = np.array(waiting_time_simulator(rate))\n",
    "\n",
    "if len(wait_times) > 0:\n",
    "    print(\"Average waiting time:\", np.average(wait_times))\n",
    "    print(\"Standard deviation for waiting time:\", np.std(wait_times))"
   ]
  },
  {
   "cell_type": "code",
   "execution_count": null,
   "metadata": {},
   "outputs": [],
   "source": []
  }
 ],
 "metadata": {
  "kernelspec": {
   "display_name": "Python 3",
   "language": "python",
   "name": "python3"
  },
  "language_info": {
   "codemirror_mode": {
    "name": "ipython",
    "version": 3
   },
   "file_extension": ".py",
   "mimetype": "text/x-python",
   "name": "python",
   "nbconvert_exporter": "python",
   "pygments_lexer": "ipython3",
   "version": "3.7.4"
  },
  "toc": {
   "colors": {
    "hover_highlight": "#DAA520",
    "running_highlight": "#FF0000",
    "selected_highlight": "#FFD700"
   },
   "moveMenuLeft": true,
   "nav_menu": {
    "height": "174px",
    "width": "252px"
   },
   "navigate_menu": true,
   "number_sections": false,
   "sideBar": true,
   "threshold": 4,
   "toc_cell": false,
   "toc_section_display": "block",
   "toc_window_display": false
  }
 },
 "nbformat": 4,
 "nbformat_minor": 2
}
