{
 "cells": [
  {
   "cell_type": "code",
   "execution_count": 2,
   "metadata": {
    "collapsed": true
   },
   "outputs": [],
   "source": [
    "%matplotlib inline\n",
    "import numpy as np\n",
    "from matplotlib import pyplot as plt\n",
    "import math"
   ]
  },
  {
   "cell_type": "markdown",
   "metadata": {},
   "source": [
    "#### 1)Fibbonacci search [Optional]\n",
    "\n",
    "For 1 Dimension optimization we can actually use something similar to bisection to find the extremum. The method is called Fibbonacci Search/or sometimes golden ratio search.\n",
    "\n",
    "The idea goes like the following,\n",
    "\n",
    "1. We bound the function and we assume that function is *unimodal* (sometimes it's called quasiconvex). It is just a fancy word for *having 1 extremum* with in the interval we care.\n",
    "\n",
    "2. Then we pick two additional points in the interval. (This is what makes it different from bisection)\n",
    "\n",
    "3. From the values of the boundaries and the two additional point we can figure out the new boundary\n",
    "\n",
    "Let us do an example. Our starting bounds are at $a$ and $b$.\n",
    "\n",
    "We then have two test points $l$ and $r$ such that it is between the two bound and $c<d$. Specifically,\n",
    "$$a < l < r < b$$\n",
    "In this case, we pick $l$ and $r$ such that the space is divided in to 3 pieces equally. (This is actually suboptimal.)\n",
    "\n",
    "The new bounds will be choosen from the  two interval $(a,r)$ or $(l, b)$. Yes, the two intervals ovelap. This can be done by comparing the value of $f(l)$ and $f(r)$. You will have to figure out the rule for bound update.\n",
    "\n",
    "The new bound we get will be smaller than the former bound. This means that if we keep updating the bound we can bound the maximum quite accurately.\n",
    "\n",
    "Yes, there are some of missing pieces in the instruction. By now you should be able to fill those in yourself."
   ]
  },
  {
   "cell_type": "code",
   "execution_count": 3,
   "metadata": {},
   "outputs": [
    {
     "data": {
      "image/png": "[encoded data removed]",
      "text/plain": [
       "<matplotlib.figure.Figure at 0x105d95890>"
      ]
     },
     "metadata": {},
     "output_type": "display_data"
    }
   ],
   "source": [
    "def f(x):\n",
    "    return -(x-4)**2 +5\n",
    "\n",
    "xs = np.linspace(-5,10,100)\n",
    "ys = f(xs)\n",
    "plt.plot(xs,ys)\n",
    "#plt.ylim(-30,10)\n",
    "xx = [-3,0,3,6]\n",
    "colors = ['blue', 'magenta', 'red','black']\n",
    "shift = 0.5\n",
    "for x,c,i in zip(xx,colors,['a','l','r','b']):\n",
    "    plt.axvline(x,color=c)\n",
    "    plt.plot(x,f(x),'or')\n",
    "    plt.text(x+shift,f(x),r'$%s$'%(i),size=20)"
   ]
  },
  {
   "cell_type": "markdown",
   "metadata": {},
   "source": [
    "#### 1.1) Task 1 Maximum\n",
    "Find the location of the maximum for the given function using Fibbonacci search described above. Pick appropriate initial bound."
   ]
  },
  {
   "cell_type": "code",
   "execution_count": 38,
   "metadata": {},
   "outputs": [
    {
     "data": {
      "text/plain": [
       "[<matplotlib.lines.Line2D at 0x10a0193d0>]"
      ]
     },
     "execution_count": 38,
     "metadata": {},
     "output_type": "execute_result"
    },
    {
     "data": {
      "image/png": "[encoded data removed]",
      "text/plain": [
       "<matplotlib.figure.Figure at 0x109f6ba50>"
      ]
     },
     "metadata": {},
     "output_type": "display_data"
    }
   ],
   "source": [
    "def f(x):\n",
    "    return math.exp(-(x-1.2)**2)*x + 1\n",
    "xs = np.linspace(-5,5,100)\n",
    "ys = [f(xx) for xx in xs]\n",
    "plt.plot(xs,ys)"
   ]
  },
  {
   "cell_type": "code",
   "execution_count": null,
   "metadata": {
    "collapsed": true
   },
   "outputs": [],
   "source": []
  },
  {
   "cell_type": "markdown",
   "metadata": {},
   "source": [
    "#### 1.2) Task 2 Minimum\n",
    "Find the location of the minimum for the given function using Fibbonacci search described above. Pick appropriate initial bound."
   ]
  },
  {
   "cell_type": "code",
   "execution_count": 39,
   "metadata": {},
   "outputs": [
    {
     "data": {
      "text/plain": [
       "[<matplotlib.lines.Line2D at 0x10a26e710>]"
      ]
     },
     "execution_count": 39,
     "metadata": {},
     "output_type": "execute_result"
    },
    {
     "data": {
      "image/png": "[encoded data removed]",
      "text/plain": [
       "<matplotlib.figure.Figure at 0x10a031cd0>"
      ]
     },
     "metadata": {},
     "output_type": "display_data"
    }
   ],
   "source": [
    "def f(x):\n",
    "    return math.exp(-(x-1.2)**2)*x + 1\n",
    "xs = np.linspace(-5,5,100)\n",
    "ys = [f(xx) for xx in xs]\n",
    "plt.plot(xs,ys)"
   ]
  },
  {
   "cell_type": "code",
   "execution_count": null,
   "metadata": {
    "collapsed": true
   },
   "outputs": [],
   "source": []
  },
  {
   "cell_type": "markdown",
   "metadata": {},
   "source": [
    "#### 1.3) The name Fibbonacci.  Read along.\n",
    "You may wonder why this method is called Fibbonacci search or Golden ratio search. This has to do about how you pick the two points in between.\n",
    "\n",
    "\n",
    "Here is the deal. Normally you need to recalculate *both* $l$ and $r$ in and thus $f(l)$ and $f(r)$ in each iteration. This is quite expensive and can be avoid by picking special value of $r$ and $l$.\n",
    "\n",
    "<img src=\"Chapra.png\" width=\"300px\">\n",
    "(Image from Numericals Method for Engineer by Chapra)\n",
    "\n",
    "The idea is we hope that one of $r$ or $l$ can be reused as we move the bound.\n",
    "\n",
    "From the picture above, we can see that we can reuse $l$ from the first iteration as $r$ of the second iteration if\n",
    "\n",
    "$$\\frac{l_1}{l_0} = \\frac{l_2}{l_1}$$\n",
    "\n",
    "1. The left ratio is the ratio of $r$ or the first iteration over the total length of the first iteration.\n",
    "2. The right ratio is the ratio of $r$ of the second iteration over the total length of the second iteration.\n",
    "\n",
    "We also have the condition that\n",
    "\n",
    "$$l_0 = l_1 + l_2$$\n",
    "\n",
    "\n",
    "Combining the two equations we have\n",
    "\n",
    "$$ \\frac{l_1}{l_2+l_1} = \\frac{l_2}{l_1}$$\n",
    "\n",
    "Let $R = \\frac{l_2}{l_1}$\n",
    "\n",
    "Then we have\n",
    "\n",
    "$$R^2 + R -1 = 0$$\n",
    "\n",
    "Your job is to find value of $R$. You will get a number that look very familiar. You could implement it with this ratio and reuse the value for fun but don't bother. I have never seen anyone use this method. Just find $R$."
   ]
  },
  {
   "cell_type": "code",
   "execution_count": null,
   "metadata": {
    "collapsed": true
   },
   "outputs": [],
   "source": []
  },
  {
   "cell_type": "markdown",
   "metadata": {},
   "source": [
    "#### 2) Gradient Descent\n",
    "\n",
    "Find the minimum of the following function using gradient descent.\n",
    "\n",
    "$$ f(x,y) = (a-x)^2 + b (y-x^2)^2$$\n",
    "\n",
    "with $a=1.11$ and $b=50$. Pick appropriate starting point. Be careful about your $\\lambda$"
   ]
  },
  {
   "cell_type": "code",
   "execution_count": null,
   "metadata": {
    "collapsed": true
   },
   "outputs": [],
   "source": []
  },
  {
   "cell_type": "markdown",
   "metadata": {},
   "source": [
    "#### 3) Smiley (This is not easy)\n",
    "Use the method we learned in class and draw a separating line of the form\n",
    "\n",
    "$$x_2 = ax_1^2 + bx_1 + c$$\n",
    "\n",
    "between the eyes and the mouth of the smiley. You should get a curve not a straightline. $x_1$ is the first column or `data` and $x_2$ is the second column of `data`. `classes` contains the integer indicating whether it's a mouth(0) or eyes(1).\n",
    "\n",
    "Your answer should be something similar to the green line shown below.\n",
    "\n",
    "The trick to this is to really understand what we did in class and use this hint:\n",
    "\n",
    "Hint: Use $$\\vec{w} \\cdot \\vec{x} =  [c, a, b, 1] \\cdot [1, x_1, x_1^2, x_2]$$\n",
    "\n",
    "You may use scipy.optimize.minimize."
   ]
  },
  {
   "cell_type": "code",
   "execution_count": 19,
   "metadata": {},
   "outputs": [
    {
     "data": {
      "text/plain": [
       "[<matplotlib.lines.Line2D at 0x107aa6cd0>]"
      ]
     },
     "execution_count": 19,
     "metadata": {},
     "output_type": "execute_result"
    },
    {
     "data": {
      "image/png": "[encoded data removed]",
      "text/plain": [
       "<matplotlib.figure.Figure at 0x10798a510>"
      ]
     },
     "metadata": {},
     "output_type": "display_data"
    }
   ],
   "source": [
    "np.random.seed(20)\n",
    "n = 50\n",
    "mean = [-3, 0]\n",
    "cov = [[0.1, -0.5], [-0.5, 5]]\n",
    "lex, ley = np.random.multivariate_normal(mean, cov, n).T\n",
    "\n",
    "mean = [3, 0]\n",
    "cov = [[0.1, 0], [0, 5]]\n",
    "rex, rey = np.random.multivariate_normal(mean, cov, n).T\n",
    "\n",
    "mx = np.linspace(-8,8,2*n)\n",
    "my = -np.sqrt(8**2 - mx**2) + np.random.rand(100)\n",
    "\n",
    "\n",
    "data = np.zeros((4*n,2))\n",
    "data[:50,0], data[:50,1] = lex, ley\n",
    "data[50:100,0], data[50:100,1] = rex, rey\n",
    "data[100:,0], data[100:,1] = mx, my\n",
    "\n",
    "classes = np.zeros(4*n)\n",
    "classes[:100] = 1\n",
    "classes[100:] = 0\n",
    "\n",
    "plt.plot(data[classes==1,0], data[classes==1,1],'.r')\n",
    "plt.plot(data[classes==0,0], data[classes==0,1],'.b')\n",
    "plt.xlabel(r\"$x_1$\",size=20)\n",
    "plt.ylabel(r\"$x_2$\",size=20)\n",
    "\n",
    "\n",
    "my2 =  0.1*mx**2 -4\n",
    "plt.plot(mx,my2,'g')"
   ]
  },
  {
   "cell_type": "code",
   "execution_count": null,
   "metadata": {
    "collapsed": true
   },
   "outputs": [],
   "source": []
  },
  {
   "cell_type": "markdown",
   "metadata": {},
   "source": [
    "#### 4) Fitting a distribution.\n",
    "\n",
    "A lot of time in science we go collect the data. For example you can measure the height of eveyone in MUIC. A good way to visualize it is to plot a histogram."
   ]
  },
  {
   "cell_type": "code",
   "execution_count": 20,
   "metadata": {},
   "outputs": [
    {
     "data": {
      "text/plain": [
       "[<matplotlib.lines.Line2D at 0x1069c0250>]"
      ]
     },
     "execution_count": 20,
     "metadata": {},
     "output_type": "execute_result"
    },
    {
     "data": {
      "image/png": "[encoded data removed]",
      "text/plain": [
       "<matplotlib.figure.Figure at 0x106af7a90>"
      ]
     },
     "metadata": {},
     "output_type": "display_data"
    }
   ],
   "source": [
    "np.random.seed(78)\n",
    "n = 3000\n",
    "height = 175 + np.random.randn(n)*20\n",
    "h, e, p = plt.hist(height, bins=50)\n",
    "m = (e[1:] + e[:-1])/2.\n",
    "bw = e[1]-e[0]\n",
    "plt.plot(m,h,'or')"
   ]
  },
  {
   "cell_type": "markdown",
   "metadata": {},
   "source": [
    "We can make it a probability distribution function(ensure the area=1) by number of data time bin width.\n"
   ]
  },
  {
   "cell_type": "code",
   "execution_count": 23,
   "metadata": {},
   "outputs": [
    {
     "data": {
      "text/plain": [
       "[<matplotlib.lines.Line2D at 0x1071b42d0>]"
      ]
     },
     "execution_count": 23,
     "metadata": {},
     "output_type": "execute_result"
    },
    {
     "data": {
      "image/png": "[encoded data removed]",
      "text/plain": [
       "<matplotlib.figure.Figure at 0x106980610>"
      ]
     },
     "metadata": {},
     "output_type": "display_data"
    }
   ],
   "source": [
    "pdf = h/n/bw\n",
    "plt.plot(m,pdf,'ob')"
   ]
  },
  {
   "cell_type": "markdown",
   "metadata": {},
   "source": [
    "The probaility distribution Normal distribution is given by\n",
    "\n",
    "$$P(x;\\mu, \\sigma) = \\frac{1}{\\sigma\\sqrt{2\\pi}}e^{\\displaystyle -\\frac{(x-\\mu)^2}{2\\sigma^2}}$$\n",
    "\n",
    "We would like to fit this against Normal distribution to find out the mean($\\mu$) and the standard deviation($\\sigma$).\n",
    "\n",
    "#### Your task\n",
    "\n",
    "Figure out what to minimize and find the value of $\\mu$ and $\\sigma$ that gives us the best fit. The plot below show one decent guess."
   ]
  },
  {
   "cell_type": "code",
   "execution_count": 27,
   "metadata": {},
   "outputs": [
    {
     "data": {
      "text/plain": [
       "[<matplotlib.lines.Line2D at 0x107df5bd0>]"
      ]
     },
     "execution_count": 27,
     "metadata": {},
     "output_type": "execute_result"
    },
    {
     "data": {
      "image/png": "[encoded data removed]",
      "text/plain": [
       "<matplotlib.figure.Figure at 0x107df5dd0>"
      ]
     },
     "metadata": {},
     "output_type": "display_data"
    }
   ],
   "source": [
    "plt.plot(m,pdf,'ob')\n",
    "plt.plot(m,1/(15*np.sqrt(2*math.pi))*np.exp(-(m-170)**2/(2*15**2)),'r')"
   ]
  },
  {
   "cell_type": "code",
   "execution_count": null,
   "metadata": {
    "collapsed": true
   },
   "outputs": [],
   "source": []
  },
  {
   "cell_type": "markdown",
   "metadata": {},
   "source": [
    "#### 5) Efficient Frontier.\n",
    "\n",
    "This will be a long read. It's worth it. Even though you don't really need to fully understand the problem to do it, I recommend you Google/youtube the term if you don't fully understand. \n",
    "\n",
    "Constraint Optimization are usually difficult to deal with but some type of constraint is easier than others.\n",
    "The form of constraint We want to deal with here is call linear equality constraint.\n",
    "\n",
    "In this problem we will investigate the concept of Efficient Frontier and Captial Allocation Lines. This can really be used to make real money(given you have the right data). Do not forget about your AJ when you got rich :P.\n",
    "\n",
    "Each stock has two characteristics. Mean rate of return $r$ and risk which is quantified by *variance*. For US stock you can actually look those up on yahoo finance, they give one estimate.\n",
    "\n",
    "The mean reate of return $r$ tells you about the expected return of your investment. For example if you put money $m$ into a stock of mean rate of return $r$. Then you can expect it to be worth $m(1+r)$ at the end of the period.\n",
    "\n",
    "If you invest in many stocks and the mean rate of return for each stocks are given by\n",
    "\n",
    "$$\\vec{R} = [r_0, r_1, r_2, \\ldots]$$\n",
    "\n",
    "and the fraction of total money you put in each stocks are ($w_0+w_1+\\ldots = 1$)\n",
    "\n",
    "$$\\vec{w}= [w_0,w_1,w_2,\\ldots]$$.\n",
    "\n",
    "Then, the rate of return of your portfolio($\\mu$) is given by\n",
    "\n",
    "$$\\mu = \\vec{R} \\cdot \\vec{w}$$\n",
    "\n",
    "Try it with 2 stock and you will understand where this comes from. See? I told you to pay attention in Math and Physics classes."
   ]
  },
  {
   "cell_type": "markdown",
   "metadata": {},
   "source": [
    "#### Example 1.\n",
    "\n",
    "If the rate of return for three stocks are given by \n",
    "\n",
    "$$\\vec{R} = [0.01, 0.05,0.02]$$\n",
    "\n",
    "and the fraction of the money you put is each stock is\n",
    "\n",
    "$$\\vec{w}= [0.5,0.4,0.1]$$\n",
    "\n",
    "Find the expected rate of return of your portfolio."
   ]
  },
  {
   "cell_type": "code",
   "execution_count": 122,
   "metadata": {},
   "outputs": [
    {
     "name": "stdout",
     "output_type": "stream",
     "text": [
      "0.027\n"
     ]
    }
   ],
   "source": [
    "#answer\n",
    "R = [0.01,0.05,0.02]\n",
    "w = [0.5,0.4,0.1]\n",
    "print np.dot(R,w)"
   ]
  },
  {
   "cell_type": "markdown",
   "metadata": {},
   "source": [
    "The next thing to understand is the risk. This is quantified by the variance. Recall from Discrete Maht class the variance measures how wide spread the reate of return is. If the variance of 1 unit of stock A is $V(A)$ then the variance for holding $n$ unit of stock A is\n",
    "\n",
    "$$V(10 A) = 10^2 V(A)$$\n",
    "\n",
    "If we hold $w_A$ of stock A and and $w_B$ of stock B. Then the total risk/variance is given by\n",
    "\n",
    "$$V(w_A A + w_B B) = w_A^2 V(A) + w_B^2 V(B) + 2 w_A w_B Cov(A,B) $$\n",
    "\n",
    "where $Cov(A,B)$ is covariance of stock A and B. It measures whether the two stock goes up/down together(positive) of goes in opposite direction(negative) or doesn't care about each other(zero).\n",
    "\n",
    "If you buy many stocks, then the same calculation can be carried out by\n",
    "\n",
    "$$V_P = \\vec{w} \\cdot (\\Sigma \\vec{w})$$\n",
    "\n",
    "where $V_P$ is variance/risk of your portfolio. The $\\Sigma$ is called the covariance matrix. It is not the sum the second term is matrix multiplications.\n",
    "\n",
    "In this problem, I'll give you the covariance matrix."
   ]
  },
  {
   "cell_type": "markdown",
   "metadata": {},
   "source": [
    "#### Example 2\n",
    "Given the covariance matrix of the 2 stocks as follows, and we invest\n",
    "$\\vec{w} = [0.2,0.8]$ in the two stocks. What is the variance of return for your portfolio?"
   ]
  },
  {
   "cell_type": "code",
   "execution_count": 129,
   "metadata": {},
   "outputs": [
    {
     "name": "stdout",
     "output_type": "stream",
     "text": [
      "covariance matrix\n",
      "[[ 1.   0.5]\n",
      " [ 0.5  2. ]]\n",
      "Variance of portfolio\n",
      "1.48\n"
     ]
    }
   ],
   "source": [
    "w = np.array([0.2,0.8])\n",
    "cov = np.array([[1,0.5],[0.5,2]])\n",
    "print 'covariance matrix' \n",
    "print cov\n",
    "\n",
    "print 'Variance of portfolio'\n",
    "covw = np.dot(cov,w)\n",
    "wcovw = np.dot(w,covw)\n",
    "print wcovw"
   ]
  },
  {
   "cell_type": "markdown",
   "metadata": {},
   "source": [
    "#### Risk Tolerance.\n",
    "\n",
    "When we try to make a portfolio, we would try to optimize some combination of risk and return. We want high return and low risk. However the two doesn't come together. We have to trade one off for another. One way to do that is to minimize some linear combination of risk and return\n",
    "\n",
    "$$cost(\\vec{w}) = \\vec{w}\\cdot\\Sigma\\vec{w}- q \\vec{w}\\cdot\\vec{R}$$\n",
    "\n",
    "For those people hate risk, value of $q$(risk tolerance) will be really small. Let us consider the extreme case where $q$ is zero. This mean the investor doesn't care what he/she gets in return. He/she only cares about the fact that the risk(first term) is minimize.\n",
    "\n",
    "For risky investor, value of $q$ is really high. The cost function with high $q$ says that as long as the investor gets good return the risk is consider a small factor.\n",
    "\n",
    "The question of making a portfolio is really the question of finding $\\vec{w}$ such that the cost function is minimize. So, let us do that."
   ]
  },
  {
   "cell_type": "markdown",
   "metadata": {},
   "source": [
    "#### Your task\n",
    "Let us consider the market with 30 stocks. (I made up all these numbers. I think you can grab all these number for US stock from yahoo finance and quandl). The covarince matrix($S$) and the mean rate of return$R$ are given in the cell below. Your job is to find the best mean rate of return and the variance of the portfolio for various value of risk tolerance $q$. \n",
    "\n",
    "Do this for 30 values of ($q \\in [0,0.8]$) then plot the variance of the optimal on $x$ axis and the mean rate of return for the portfolio on $y$ axis.  \n",
    "\n",
    "\n",
    "Note that you will need to be a little smart about $\\vec{w}$ since all the methods we know now can only do unconstrained optimization. But we do have a constrain in $\\vec{w}$ that all the weights has to add up to 1. ($w$ can be negative indicating shorting the stock)\n",
    "\n",
    "$$w_0+w_1+w_2+\\ldots +w_{29}= 1$$\n",
    "\n",
    "You will need to devise a way to get around that constraint.(Hint: Substitution)\n",
    "\n",
    "\n",
    "Once you are done. Congratulation! you have just created an efficient frontier which is how traders select what to invest.\n",
    "\n",
    "See More:\n",
    "https://www.youtube.com/watch?v=6I9-q2W4nwU"
   ]
  },
  {
   "cell_type": "code",
   "execution_count": 262,
   "metadata": {},
   "outputs": [],
   "source": [
    "np.random.seed(121)\n",
    "nstock = 30\n",
    "R = np.random.randn(nstock)/100*2+0.01\n",
    "A = np.random.randn(nstock,nstock)\n",
    "S = np.dot(A,A.T)\n",
    "S = S/np.max(np.abs(S))*5e-1\n",
    "for i in range(S.shape[0]):\n",
    "    if abs(S[i,i])<1e-1:\n",
    "        S[i,i] +=1e-1"
   ]
  },
  {
   "cell_type": "code",
   "execution_count": 265,
   "metadata": {},
   "outputs": [
    {
     "name": "stdout",
     "output_type": "stream",
     "text": [
      "(30, 30)\n",
      "(30,)\n"
     ]
    }
   ],
   "source": [
    "print S.shape\n",
    "print R.shape"
   ]
  },
  {
   "cell_type": "code",
   "execution_count": null,
   "metadata": {
    "collapsed": true
   },
   "outputs": [],
   "source": []
  }
 ],
 "metadata": {
  "kernelspec": {
   "display_name": "Python 3",
   "language": "python",
   "name": "python3"
  },
  "language_info": {
   "codemirror_mode": {
    "name": "ipython",
    "version": 3
   },
   "file_extension": ".py",
   "mimetype": "text/x-python",
   "name": "python",
   "nbconvert_exporter": "python",
   "pygments_lexer": "ipython3",
   "version": "3.7.0"
  },
  "toc": {
   "colors": {
    "hover_highlight": "#DAA520",
    "running_highlight": "#FF0000",
    "selected_highlight": "#FFD700"
   },
   "moveMenuLeft": true,
   "nav_menu": {
    "height": "241.7646942138672px",
    "width": "252.35293579101562px"
   },
   "navigate_menu": true,
   "number_sections": false,
   "sideBar": true,
   "threshold": 4,
   "toc_cell": false,
   "toc_section_display": "block",
   "toc_window_display": false
  }
 },
 "nbformat": 4,
 "nbformat_minor": 1
}
